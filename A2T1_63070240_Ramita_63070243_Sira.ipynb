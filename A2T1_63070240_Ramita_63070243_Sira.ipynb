{
  "cells": [
    {
      "cell_type": "markdown",
      "metadata": {
        "id": "view-in-github",
        "colab_type": "text"
      },
      "source": [
        "<a href=\"https://colab.research.google.com/github/MinakoNG63/Assignment/blob/main/A2T1_63070240_Ramita_63070243_Sira.ipynb\" target=\"_parent\"><img src=\"https://colab.research.google.com/assets/colab-badge.svg\" alt=\"Open In Colab\"/></a>"
      ]
    },
    {
      "cell_type": "markdown",
      "source": [
        "น.ส.รมิตา ศรีภูธร 63070240\n",
        "\n",
        "นาย ศิรา อัตตวนิช 63070243"
      ],
      "metadata": {
        "id": "mywTiEbii8hf"
      }
    },
    {
      "cell_type": "markdown",
      "source": [
        "import all package we will need"
      ],
      "metadata": {
        "id": "zuLreCYUblO4"
      }
    },
    {
      "cell_type": "code",
      "execution_count": null,
      "metadata": {
        "id": "WYiIEUmhF678"
      },
      "outputs": [],
      "source": [
        "import requests\n",
        "import bs4\n",
        "from tqdm.notebook import tqdm\n",
        "import time\n",
        "import pandas as pd"
      ]
    },
    {
      "cell_type": "markdown",
      "source": [
        "# Web scraping"
      ],
      "metadata": {
        "id": "PZql4fz6U0hw"
      }
    },
    {
      "cell_type": "markdown",
      "source": [
        "## Request link"
      ],
      "metadata": {
        "id": "E7NKJshrouKY"
      }
    },
    {
      "cell_type": "markdown",
      "source": [
        "ทำการอ่านหน้าเว็บเพื่อเก็บ link ของเว็บในแต่ละเดือน ซึ่งเก็บใน list links"
      ],
      "metadata": {
        "id": "2THzy5tvCB60"
      }
    },
    {
      "cell_type": "code",
      "execution_count": null,
      "metadata": {
        "id": "qYaB0dIRH5eJ",
        "colab": {
          "base_uri": "https://localhost:8080/",
          "height": 257,
          "referenced_widgets": [
            "ad3dd94924dd4466a319bfcc14b3947d",
            "8934ada9d90e447db648008ca9c225fa",
            "b7b0c8a02347499b9fccbdf99fd2178e",
            "6548b99dbdf24e8c93384ca45916980d",
            "99814db74ae743b1b0e918dbb4a2eb9c",
            "a93ad5ae77ec419e8929b822e959f87b",
            "65a71ececfc144a99ae067b49699e229",
            "ab04420fff2949fa8dac1c47775b78be",
            "0a98629358ae40ea82ad8c613a4f2e44",
            "7a4ae6e95f7d4b9097a65a8fb4ddf00f",
            "53641ce9a671480fafaa1198a1573911"
          ]
        },
        "outputId": "b3491830-d3f9-4a9a-8964-6ce5a0ae7ccf"
      },
      "outputs": [
        {
          "output_type": "display_data",
          "data": {
            "text/plain": [
              "  0%|          | 0/12 [00:00<?, ?it/s]"
            ],
            "application/vnd.jupyter.widget-view+json": {
              "version_major": 2,
              "version_minor": 0,
              "model_id": "ad3dd94924dd4466a319bfcc14b3947d"
            }
          },
          "metadata": {}
        },
        {
          "output_type": "stream",
          "name": "stdout",
          "text": [
            "http://www.it.kmitl.ac.th/~teerapong/news_archive/month-jan-2017.html\n",
            "http://www.it.kmitl.ac.th/~teerapong/news_archive/month-feb-2017.html\n",
            "http://www.it.kmitl.ac.th/~teerapong/news_archive/month-mar-2017.html\n",
            "http://www.it.kmitl.ac.th/~teerapong/news_archive/month-apr-2017.html\n",
            "http://www.it.kmitl.ac.th/~teerapong/news_archive/month-may-2017.html\n",
            "http://www.it.kmitl.ac.th/~teerapong/news_archive/month-jun-2017.html\n",
            "http://www.it.kmitl.ac.th/~teerapong/news_archive/month-jul-2017.html\n",
            "http://www.it.kmitl.ac.th/~teerapong/news_archive/month-aug-2017.html\n",
            "http://www.it.kmitl.ac.th/~teerapong/news_archive/month-sep-2017.html\n",
            "http://www.it.kmitl.ac.th/~teerapong/news_archive/month-oct-2017.html\n",
            "http://www.it.kmitl.ac.th/~teerapong/news_archive/month-nov-2017.html\n",
            "http://www.it.kmitl.ac.th/~teerapong/news_archive/month-dec-2017.html\n"
          ]
        }
      ],
      "source": [
        "# requests.get จะทำการอ่านเว็บแล้วคืนผลที่ได้ออกมาเป็นออบเจ็กต์ชนิด Response ซึ่งเก็บข้อมูลต่างๆของหน้าเว็บนั้นไว้\n",
        "response = requests.get('http://www.it.kmitl.ac.th/~teerapong/news_archive/index.html')\n",
        "# bs4.BeautifulSoup จะทำการอ่านเว็บแล้วคืนผลที่ได้ออกมาเป็นออบเจ็กต์ชนิด bs4.BeautifulSoup ซึ่งเก็บข้อมูลต่างๆของหน้าเว็บนั้นไว้\n",
        "html_page = bs4.BeautifulSoup(response.content, 'lxml')\n",
        "tags_a = html_page.select(\"div.container ul a\") # ได้ list ของ tag a ออกมา\n",
        "links = list() # สร้าง list links สำหรับเก็บค่า url\n",
        "for i in tqdm(tags_a): # เอา list ของ tag a มาวนตาม index\n",
        "    href = i[\"href\"] # เอาค่าจากใน attribute href\n",
        "    url = \"http://www.it.kmitl.ac.th/~teerapong/news_archive/\" + href # สร้าง url ของเว็บ\n",
        "    links.append(url) # เพิ่มค่า url ลงใน list links\n",
        "    print(url)"
      ]
    },
    {
      "cell_type": "markdown",
      "metadata": {
        "id": "GpJyMI1vMP4u"
      },
      "source": [
        "## Requsest conetent"
      ]
    },
    {
      "cell_type": "markdown",
      "source": [
        "- ทำการอ่านหน้าเว็บเพื่อเก็บประเภทของข่าวแต่ละข่าวลงใน list categories\n",
        "- ทำการอ่านหน้าเว็บเพื่อเก็บหัวข้อของข่าวแต่ละข่าวลงใน list titles\n",
        "- ทำการอ่านหน้าเว็บเพื่อเก็บ link เนื้อหาของข่าวแต่ละข่าวลงใน list link_desc เพื่อนำไปใช้ดึงในขั้นตอนต่อไป"
      ],
      "metadata": {
        "id": "Nxv5ET0zCfCm"
      }
    },
    {
      "cell_type": "code",
      "execution_count": null,
      "metadata": {
        "colab": {
          "base_uri": "https://localhost:8080/",
          "height": 49,
          "referenced_widgets": [
            "c4347c6185dc467da8f2cbb7498441b0",
            "2854ab35b3464667b8f2c9e25d68b1fc",
            "ae26365aeddf48a5a3bc7fc7a011962b",
            "aaadd5974b16482d8f7dd8f6349e8ff2",
            "c6e88fa76b33464fbf3a7446c761be45",
            "dff0800f8ecb4da0b87701af4ae97e82",
            "a82a0dee93494714afb0956d46cc9c1e",
            "8b000eff9ff945e18f67596142345ed2",
            "e51256213b354d9ebbb10ced3315ef4a",
            "635252f8794d405c979ac61f5593c55c",
            "428fa2f7d2a24dee9d2e0565643df65d"
          ]
        },
        "id": "A3RAe2_q2Hhu",
        "outputId": "7e320eca-487c-41cb-e6ba-04c10c707749"
      },
      "outputs": [
        {
          "output_type": "display_data",
          "data": {
            "text/plain": [
              "  0%|          | 0/12 [00:00<?, ?it/s]"
            ],
            "application/vnd.jupyter.widget-view+json": {
              "version_major": 2,
              "version_minor": 0,
              "model_id": "c4347c6185dc467da8f2cbb7498441b0"
            }
          },
          "metadata": {}
        }
      ],
      "source": [
        "categories = list() # สร้าง list categories สำหรับเก็บค่า category ของแต่ละข่าว\n",
        "titles = list() # สร้าง list titles สำหรับเก็บค่า title ของข่าว\n",
        "link_desc = list() # สร้าง list link_desc สำหรับเก็บค่า link ของหน้าเว็บ title ของข่าวนั้นๆ\n",
        "for url in tqdm(links):\n",
        "    try:\n",
        "        # requests.get จะทำการอ่านเว็บแล้วคืนผลที่ได้ออกมาเป็นออบเจ็กต์ชนิด Response ซึ่งเก็บข้อมูลต่างๆของหน้าเว็บนั้นไว้\n",
        "        response = requests.get(url)\n",
        "    except:\n",
        "        while not(response.status_code==200):\n",
        "            # เป็นการตั้งเงื่อนไขหาก status_code ของ response ไม่เท่ากับ 200 จะทำการอ่านเว็บใหม่จนกระทั่ง status_code ของ response เท่ากับ 200\n",
        "            response = requests.get(url)\n",
        "    # bs4.BeautifulSoup จะทำการอ่านเว็บแล้วคืนผลที่ได้ออกมาเป็นออบเจ็กต์ชนิด bs4.BeautifulSoup ซึ่งเก็บข้อมูลต่างๆของหน้าเว็บนั้นไว้\n",
        "    html_news = bs4.BeautifulSoup(response.content, 'lxml')\n",
        "    cate = html_news.select(\"div.main table tbody tr td.category\")\n",
        "    for category in cate: # เอา list ของ cate ที่เก็บค่า category ของแต่ละข่าวมาวนตาม index\n",
        "        if category.text[1:] == \"N/A\":\n",
        "            continue\n",
        "        categories.append(category.text[1:])\n",
        "    title = html_news.select(\"div.main table tbody tr td.title a\")\n",
        "    for tit in title: # เอา list ของ title มาวนตาม index\n",
        "        titles.append(tit.text) # เอาค่าในส่วนของ text มาใส่ใน list titles\n",
        "        # สร้าง url ของแต่ละข่าวโดยใช้ค่าจากใน attribute href และนำ url ไปเพิ่มใน list link_desc\n",
        "        link_desc.append(\"http://www.it.kmitl.ac.th/~teerapong/news_archive/\" + tit[\"href\"])\n"
      ]
    },
    {
      "cell_type": "code",
      "execution_count": null,
      "metadata": {
        "id": "A2l2jrC1feqe",
        "colab": {
          "base_uri": "https://localhost:8080/"
        },
        "outputId": "abb05bab-0888-4e13-d581-2412d422c69f"
      },
      "outputs": [
        {
          "output_type": "stream",
          "name": "stdout",
          "text": [
            "count categories: 1408\n",
            "count titles: 1408\n",
            "count link_desc: 1408\n"
          ]
        }
      ],
      "source": [
        "print(f'count categories: {len(categories)}')\n",
        "print(f'count titles: {len(titles)}')\n",
        "print(f'count link_desc: {len(link_desc)}')"
      ]
    },
    {
      "cell_type": "markdown",
      "source": [
        "นำ link เนื้อหาของข่าวแต่ละข่าวใน list link_desc มาทำการอ่านหน้าเว็บเพื่อเก็บเนื้อหาของข่าว โดยเก็บข้อมูล 2 แบบ คือ\n",
        "- เก็บหัวข้อแล้วตามด้วยเนื้อหาของข่าวแต่ละข่าวลงใน list lst_title_desc\n",
        "- เก็บเฉพาะเนื้อหาของข่าวแต่ละข่าวลงใน list lst_desc"
      ],
      "metadata": {
        "id": "ODhByTOPDaEd"
      }
    },
    {
      "cell_type": "code",
      "execution_count": null,
      "metadata": {
        "colab": {
          "base_uri": "https://localhost:8080/",
          "height": 49,
          "referenced_widgets": [
            "bc2c14b3eece4fdba106986e61d99ac6",
            "447c2ba4f09b4a448cd1a024036c06b8",
            "7549359b492a4ad0ada74efe6640b065",
            "4095e8fd6541434bb5e19b1335d10ad5",
            "2f5536d8cce24aa4af4a9ee379ef80a1",
            "576d41d7041e41e386ad430a21042a95",
            "5ae932c94bbf46d58b1d8a6031a78bc6",
            "52855f573fa24fe098ddbb8be7c9838a",
            "aee8ab23d99447b39f048639f58f3640",
            "6ba3f9eef88f442585a46392c2f19265",
            "34edc607e75447c0a27ecd867fca3ac3"
          ]
        },
        "id": "kRD4wJPrk8Il",
        "outputId": "2f3c4e21-58c9-448d-b1ab-32a3e5e023d3"
      },
      "outputs": [
        {
          "output_type": "display_data",
          "data": {
            "text/plain": [
              "  0%|          | 0/1408 [00:00<?, ?it/s]"
            ],
            "application/vnd.jupyter.widget-view+json": {
              "version_major": 2,
              "version_minor": 0,
              "model_id": "bc2c14b3eece4fdba106986e61d99ac6"
            }
          },
          "metadata": {}
        }
      ],
      "source": [
        "lst_title_desc = list()\n",
        "lst_desc = list()\n",
        "for news in tqdm(range(len(link_desc))): # เอา list ของ link_desc ที่เก็บค่า url ของแต่ละข่าวมาวนตาม index\n",
        "    try:\n",
        "        # requests.get จะทำการอ่านเว็บแล้วคืนผลที่ได้ออกมาเป็นออบเจ็กต์ชนิด Response ซึ่งเก็บข้อมูลต่างๆของหน้าเว็บนั้นไว้\n",
        "        response = requests.get(link_desc[news])\n",
        "    except:\n",
        "        while not(response.status_code==200):\n",
        "            # เป็นการเช็คหาก status_code ของ response ไม่เท่ากับ 200 จะทำการอ่านเว็บใหม่จนกระทั่ง status_code ของ response เท่ากับ 200\n",
        "            response = requests.get(link_desc[news])\n",
        "\n",
        "    # bs4.BeautifulSoup จะทำการอ่านเว็บแล้วคืนผลที่ได้ออกมาเป็นออบเจ็กต์ชนิด bs4.BeautifulSoup ซึ่งเก็บข้อมูลต่างๆของหน้าเว็บนั้นไว้\n",
        "    html_desc = bs4.BeautifulSoup(response.content, 'lxml')\n",
        "    desc_text = str() # สร้าง string ว่างสำหรับเก็บค่า description\n",
        "    str_title = html_desc.select_one(\"body h2\").text # ได้ค่า text ในส่วนของ h2\n",
        "    description = html_desc.select(\"body p\")\n",
        "    for string in description: # เอา list ของ description ที่เก็บข้อมูลข่าวในแต่ละพารากราฟมาวนตาม index\n",
        "        desc_text += string.text # เอาข้องมูลในแต่ละพาราการฟของข่าวมาต่อในตัวแปล desc_text\n",
        "    lst_desc.append(desc_text) # เพิ่ม description ของข่าวใน list lst_desc\n",
        "    lst_title_desc.append(str_title + ' ' + desc_text) # เพิ่ม title ที่ต่อด้วย description ของข่าวใน list lst_title_desc"
      ]
    },
    {
      "cell_type": "markdown",
      "source": [
        "## Save file"
      ],
      "metadata": {
        "id": "VdZ0OoLaUWjF"
      }
    },
    {
      "cell_type": "markdown",
      "source": [
        "- สร้าง folder data\n",
        "- สร้าง folder target ใน folder data\n",
        "- สร้าง folder datastore ใน folder data"
      ],
      "metadata": {
        "id": "VNW7_BQXExea"
      }
    },
    {
      "cell_type": "code",
      "source": [
        "!mkdir data\n",
        "!mkdir data/target\n",
        "!mkdir data/datastore"
      ],
      "metadata": {
        "id": "dO1uSROWWK1K"
      },
      "execution_count": null,
      "outputs": []
    },
    {
      "cell_type": "markdown",
      "source": [
        "ทำการสร้าง function สำหรับ save text file โดยรับค่า **ตำแหน่งที่จะเก็บ** และ **ตัวแปรที่จะนำไป save (type เป็น list)**\n"
      ],
      "metadata": {
        "id": "Xw310KuPFL5o"
      }
    },
    {
      "cell_type": "code",
      "source": [
        "# สร้าง function สำหรับ save file text\n",
        "def savefile_txt(path, var):\n",
        "  f = open(path,\"a\") # a คือ การ append ข้อมูลเข้า file\n",
        "  f.write(\"\\n\".join(var)) # ทำการขั้นแต่ละข่าวด้วย การเว้นบรรทัด\n",
        "  f.close()"
      ],
      "metadata": {
        "id": "ptu1RiRbHqPX"
      },
      "execution_count": null,
      "outputs": []
    },
    {
      "cell_type": "code",
      "source": [
        "# save category, AllArticles_HeadingPlusContent, AllArticles_OnlyContent เป็น .txt\n",
        "savefile_txt(\"./data/target/category.txt\", categories)\n",
        "savefile_txt(\"./data/datastore/AllArticles_HeadingPlusContent.txt\", lst_title_desc)\n",
        "savefile_txt(\"./data/datastore/AllArticles_OnlyContent.txt\", lst_desc)"
      ],
      "metadata": {
        "id": "7LvaBly_E6_P"
      },
      "execution_count": null,
      "outputs": []
    },
    {
      "cell_type": "markdown",
      "source": [
        "ทำการสร้าง file csv สำหรับเรียกใช้ในขั้นตอนการทำ text mining โดยเริ่มจากนำข้อมูลมาทำเป็น dictionaly แล้วจึงแปลงเป็น data frame เพื่อนำไป save เป็น file csv"
      ],
      "metadata": {
        "id": "H_lXhZgQH9ul"
      }
    },
    {
      "cell_type": "code",
      "source": [
        "# save Data เป็น csv\n",
        "dic = {'category':categories,'title_content':lst_title_desc, 'content':lst_desc}\n",
        "pd.DataFrame(dic).to_csv('news.csv', index = False)"
      ],
      "metadata": {
        "id": "feBvAU-Jdy3K"
      },
      "execution_count": null,
      "outputs": []
    },
    {
      "cell_type": "code",
      "source": [
        "!cp \"/content/news.csv\" \"/content/drive/MyDrive/Colab Notebooks/Data Science/Ds4biz Assign2\""
      ],
      "metadata": {
        "id": "vttRyz9HfoP-"
      },
      "execution_count": null,
      "outputs": []
    },
    {
      "cell_type": "markdown",
      "source": [
        "# Classification"
      ],
      "metadata": {
        "id": "cyq_Jg_YjJfG"
      }
    },
    {
      "cell_type": "markdown",
      "source": [
        "ทำการโหลดข้อมูลจาก google drive"
      ],
      "metadata": {
        "id": "sKrI7OODjgq_"
      }
    },
    {
      "cell_type": "code",
      "source": [
        "!gdown 1KlTQknfjV_g4CM6gyzoVdNSvGYec7893"
      ],
      "metadata": {
        "colab": {
          "base_uri": "https://localhost:8080/"
        },
        "id": "isXdqK0HjYtH",
        "outputId": "9472ecba-29c3-4640-a50e-ecdcf9475237"
      },
      "execution_count": null,
      "outputs": [
        {
          "output_type": "stream",
          "name": "stdout",
          "text": [
            "Downloading...\n",
            "From: https://drive.google.com/uc?id=1KlTQknfjV_g4CM6gyzoVdNSvGYec7893\n",
            "To: /content/news.csv\n",
            "\r  0% 0.00/6.56M [00:00<?, ?B/s]\r100% 6.56M/6.56M [00:00<00:00, 97.5MB/s]\n"
          ]
        }
      ]
    },
    {
      "cell_type": "code",
      "source": [
        "import pandas as pd"
      ],
      "metadata": {
        "id": "pFjBai23jj-x"
      },
      "execution_count": null,
      "outputs": []
    },
    {
      "cell_type": "markdown",
      "source": [
        "ทำการสร้าง dataframe\n",
        "- news_title\n",
        "- news_content"
      ],
      "metadata": {
        "id": "HZM_jyzSj8uK"
      }
    },
    {
      "cell_type": "code",
      "source": [
        "news = pd.read_csv('/content/news.csv')\n",
        "# ทำการสร้าง dataframe news_title ซึ่ง category เก็บประเภทของข่าวและ title_content เก็บเนื้อหาของข่าวแต่รวมหัวข้อของข่าวด้วย\n",
        "news_title = news[['category','title_content']]\n",
        "# ทำการเปลี่ยนชื่อ column ให้ column เป็น category และ content\n",
        "news_title.columns = ['category','content']\n",
        "# ทำการสร้าง dataframe news_title ซึ่ง category เก็บประเภทของข่าวและ content เก็บแต่เนื้อหาของข่าว\n",
        "news_content = news[['category','content']]"
      ],
      "metadata": {
        "id": "FpnSK0c_j8SM"
      },
      "execution_count": null,
      "outputs": []
    },
    {
      "cell_type": "markdown",
      "source": [
        "## Clean Data\n",
        "- stem\n",
        "- lematize\n",
        "- stop word"
      ],
      "metadata": {
        "id": "ODp6aoOckFBm"
      }
    },
    {
      "cell_type": "code",
      "source": [
        "!pip install -U nltk -qq\n",
        "!pip install -U spacy -qq\n",
        "!python -m spacy download en -qq"
      ],
      "metadata": {
        "colab": {
          "base_uri": "https://localhost:8080/"
        },
        "id": "ubMOPC3ikBbL",
        "outputId": "a95a3102-a9ab-401f-d038-e47313ffbbee"
      },
      "execution_count": null,
      "outputs": [
        {
          "output_type": "stream",
          "name": "stdout",
          "text": [
            "2022-11-24 07:36:37.641425: E tensorflow/stream_executor/cuda/cuda_driver.cc:271] failed call to cuInit: CUDA_ERROR_NO_DEVICE: no CUDA-capable device is detected\n",
            "\u001b[38;5;3m⚠ As of spaCy v3.0, shortcuts like 'en' are deprecated. Please use the\n",
            "full pipeline package name 'en_core_web_sm' instead.\u001b[0m\n",
            "\u001b[K     |████████████████████████████████| 12.8 MB 4.8 MB/s \n",
            "\u001b[?25h\u001b[38;5;2m✔ Download and installation successful\u001b[0m\n",
            "You can now load the package via spacy.load('en_core_web_sm')\n"
          ]
        }
      ]
    },
    {
      "cell_type": "code",
      "source": [
        "import nltk\n",
        "import spacy\n",
        "from spacy import displacy\n",
        "from collections import Counter\n",
        "spacyNlp = spacy.load('en_core_web_sm')\n",
        "from nltk.stem import PorterStemmer\n",
        "nltk.download('punkt')\n",
        "nltk.download('tagsets')\n",
        "nltk.download('wordnet')\n",
        "nltk.download('averaged_perceptron_tagger')\n",
        "nltk.download('omw-1.4')\n",
        "nltk.download('stopwords')\n",
        "from nltk.corpus import stopwords\n",
        "from nltk import word_tokenize\n",
        "from nltk.stem import WordNetLemmatizer\n",
        "from nltk.corpus import stopwords\n",
        "import warnings\n",
        "warnings.warn('')"
      ],
      "metadata": {
        "colab": {
          "base_uri": "https://localhost:8080/"
        },
        "id": "NfrAR9jPkMjY",
        "outputId": "0eafb8b8-d275-4a91-885a-6735669c1efe"
      },
      "execution_count": null,
      "outputs": [
        {
          "output_type": "stream",
          "name": "stderr",
          "text": [
            "[nltk_data] Downloading package punkt to /root/nltk_data...\n",
            "[nltk_data]   Unzipping tokenizers/punkt.zip.\n",
            "[nltk_data] Downloading package tagsets to /root/nltk_data...\n",
            "[nltk_data]   Unzipping help/tagsets.zip.\n",
            "[nltk_data] Downloading package wordnet to /root/nltk_data...\n",
            "[nltk_data] Downloading package averaged_perceptron_tagger to\n",
            "[nltk_data]     /root/nltk_data...\n",
            "[nltk_data]   Unzipping taggers/averaged_perceptron_tagger.zip.\n",
            "[nltk_data] Downloading package omw-1.4 to /root/nltk_data...\n",
            "[nltk_data] Downloading package stopwords to /root/nltk_data...\n",
            "[nltk_data]   Unzipping corpora/stopwords.zip.\n",
            "/usr/local/lib/python3.7/dist-packages/ipykernel_launcher.py:18: UserWarning: \n"
          ]
        }
      ]
    },
    {
      "cell_type": "markdown",
      "source": [
        "สร้าง function clean_data เป็น function ในการคลีนข้อมูลเป็นการทำ text Pre-Processing ด้วยการทำ\n",
        "- stem แบบ porter\n",
        "- lemmatization\n",
        "- removing stop words\n",
        "\n",
        "เป็น function ที่รับค่า dataframe และ return ออกมาเป็น dataframe"
      ],
      "metadata": {
        "id": "UO-rAgTbkQz4"
      }
    },
    {
      "cell_type": "code",
      "source": [
        "def clean_data(data):\n",
        "  # ทำ stem\n",
        "  porter = PorterStemmer()\n",
        "  # รับค่า string ของแต่ละ row และได้ผลลัพธ์เป็น list ของ token\n",
        "  data.loc[:, 'content'] = data['content'].apply(lambda text : [porter.stem(wd) for wd in nltk.word_tokenize(text)])\n",
        "\n",
        "  # ทำ lemmatization\n",
        "  lemmatizer = WordNetLemmatizer()\n",
        "  def lemmatiz(lis):\n",
        "    li = []\n",
        "    for i in lis:\n",
        "      li.append(lemmatizer.lemmatize(i))\n",
        "    return li\n",
        "  # รับค่า list token ของแต่ละ row และได้ผลลัพธ์เป็น list\n",
        "  data.loc[:, 'content'] = data['content'].apply(lambda text : lemmatiz(text))\n",
        "\n",
        "  # ทำ stop word\n",
        "  a = set(stopwords.words('english'))\n",
        "  # เป็นการทำโดยเช็คแต่ละ index ใน list ซึ่งถ้าเป็นคำใน stop word จะไม่อยู่ใน list\n",
        "  data.loc[:, 'content'] = data['content'].apply(lambda text : [x for x in text if x not in a])\n",
        "  # หลังจากเอา stop word ออกเราจะทำการนำ list ของ token มาต่อกันเป็น string\n",
        "  data.loc[:, 'content'] = data['content'].apply(lambda lis: \" \".join(lis))\n",
        "  return data"
      ],
      "metadata": {
        "id": "GOqsbK6jkQG-"
      },
      "execution_count": null,
      "outputs": []
    },
    {
      "cell_type": "code",
      "source": [
        "# สร้าง dataframe df_clean โดยนำ dataframe news_title เข้า function clean_data\n",
        "df_clean = clean_data(news_title)"
      ],
      "metadata": {
        "colab": {
          "base_uri": "https://localhost:8080/"
        },
        "id": "iKYYpmkZkYMS",
        "outputId": "e57048f1-a45e-45b6-945e-265267115ac7"
      },
      "execution_count": null,
      "outputs": [
        {
          "output_type": "stream",
          "name": "stderr",
          "text": [
            "/usr/local/lib/python3.7/dist-packages/pandas/core/indexing.py:1951: SettingWithCopyWarning: \n",
            "A value is trying to be set on a copy of a slice from a DataFrame.\n",
            "Try using .loc[row_indexer,col_indexer] = value instead\n",
            "\n",
            "See the caveats in the documentation: https://pandas.pydata.org/pandas-docs/stable/user_guide/indexing.html#returning-a-view-versus-a-copy\n",
            "  self.obj[selected_item_labels] = value\n"
          ]
        }
      ]
    },
    {
      "cell_type": "code",
      "source": [
        "df_clean"
      ],
      "metadata": {
        "colab": {
          "base_uri": "https://localhost:8080/",
          "height": 424
        },
        "id": "reyRd_l0ka0Y",
        "outputId": "d1c85ae6-1355-4a67-ba92-756aaa61747d"
      },
      "execution_count": null,
      "outputs": [
        {
          "output_type": "execute_result",
          "data": {
            "text/plain": [
              "        category                                            content\n",
              "0     technology  21st-centuri sport : digit technolog chang fac...\n",
              "1       business  asian quak hit european share asian quak hit e...\n",
              "2     technology  bt offer free net phone call bt offer custom f...\n",
              "3       business  barclay share merger talk barclay share merger...\n",
              "4          sport  barkley fit match ireland england centr olli b...\n",
              "...          ...                                                ...\n",
              "1403       sport  woodward eye brennan lion woodward eye brennan...\n",
              "1404    business  worldcom trial start new york trial berni ebbe...\n",
              "1405    business  yuko accus lie court yuko accus lie courtrussi...\n",
              "1406    business  yuko drop bank court bid russian oil compani y...\n",
              "1407       sport  zambia confid cautiou zambia 's technic direct...\n",
              "\n",
              "[1408 rows x 2 columns]"
            ],
            "text/html": [
              "\n",
              "  <div id=\"df-4065d877-6cab-4c5b-ac7c-69c8b33c3b39\">\n",
              "    <div class=\"colab-df-container\">\n",
              "      <div>\n",
              "<style scoped>\n",
              "    .dataframe tbody tr th:only-of-type {\n",
              "        vertical-align: middle;\n",
              "    }\n",
              "\n",
              "    .dataframe tbody tr th {\n",
              "        vertical-align: top;\n",
              "    }\n",
              "\n",
              "    .dataframe thead th {\n",
              "        text-align: right;\n",
              "    }\n",
              "</style>\n",
              "<table border=\"1\" class=\"dataframe\">\n",
              "  <thead>\n",
              "    <tr style=\"text-align: right;\">\n",
              "      <th></th>\n",
              "      <th>category</th>\n",
              "      <th>content</th>\n",
              "    </tr>\n",
              "  </thead>\n",
              "  <tbody>\n",
              "    <tr>\n",
              "      <th>0</th>\n",
              "      <td>technology</td>\n",
              "      <td>21st-centuri sport : digit technolog chang fac...</td>\n",
              "    </tr>\n",
              "    <tr>\n",
              "      <th>1</th>\n",
              "      <td>business</td>\n",
              "      <td>asian quak hit european share asian quak hit e...</td>\n",
              "    </tr>\n",
              "    <tr>\n",
              "      <th>2</th>\n",
              "      <td>technology</td>\n",
              "      <td>bt offer free net phone call bt offer custom f...</td>\n",
              "    </tr>\n",
              "    <tr>\n",
              "      <th>3</th>\n",
              "      <td>business</td>\n",
              "      <td>barclay share merger talk barclay share merger...</td>\n",
              "    </tr>\n",
              "    <tr>\n",
              "      <th>4</th>\n",
              "      <td>sport</td>\n",
              "      <td>barkley fit match ireland england centr olli b...</td>\n",
              "    </tr>\n",
              "    <tr>\n",
              "      <th>...</th>\n",
              "      <td>...</td>\n",
              "      <td>...</td>\n",
              "    </tr>\n",
              "    <tr>\n",
              "      <th>1403</th>\n",
              "      <td>sport</td>\n",
              "      <td>woodward eye brennan lion woodward eye brennan...</td>\n",
              "    </tr>\n",
              "    <tr>\n",
              "      <th>1404</th>\n",
              "      <td>business</td>\n",
              "      <td>worldcom trial start new york trial berni ebbe...</td>\n",
              "    </tr>\n",
              "    <tr>\n",
              "      <th>1405</th>\n",
              "      <td>business</td>\n",
              "      <td>yuko accus lie court yuko accus lie courtrussi...</td>\n",
              "    </tr>\n",
              "    <tr>\n",
              "      <th>1406</th>\n",
              "      <td>business</td>\n",
              "      <td>yuko drop bank court bid russian oil compani y...</td>\n",
              "    </tr>\n",
              "    <tr>\n",
              "      <th>1407</th>\n",
              "      <td>sport</td>\n",
              "      <td>zambia confid cautiou zambia 's technic direct...</td>\n",
              "    </tr>\n",
              "  </tbody>\n",
              "</table>\n",
              "<p>1408 rows × 2 columns</p>\n",
              "</div>\n",
              "      <button class=\"colab-df-convert\" onclick=\"convertToInteractive('df-4065d877-6cab-4c5b-ac7c-69c8b33c3b39')\"\n",
              "              title=\"Convert this dataframe to an interactive table.\"\n",
              "              style=\"display:none;\">\n",
              "        \n",
              "  <svg xmlns=\"http://www.w3.org/2000/svg\" height=\"24px\"viewBox=\"0 0 24 24\"\n",
              "       width=\"24px\">\n",
              "    <path d=\"M0 0h24v24H0V0z\" fill=\"none\"/>\n",
              "    <path d=\"M18.56 5.44l.94 2.06.94-2.06 2.06-.94-2.06-.94-.94-2.06-.94 2.06-2.06.94zm-11 1L8.5 8.5l.94-2.06 2.06-.94-2.06-.94L8.5 2.5l-.94 2.06-2.06.94zm10 10l.94 2.06.94-2.06 2.06-.94-2.06-.94-.94-2.06-.94 2.06-2.06.94z\"/><path d=\"M17.41 7.96l-1.37-1.37c-.4-.4-.92-.59-1.43-.59-.52 0-1.04.2-1.43.59L10.3 9.45l-7.72 7.72c-.78.78-.78 2.05 0 2.83L4 21.41c.39.39.9.59 1.41.59.51 0 1.02-.2 1.41-.59l7.78-7.78 2.81-2.81c.8-.78.8-2.07 0-2.86zM5.41 20L4 18.59l7.72-7.72 1.47 1.35L5.41 20z\"/>\n",
              "  </svg>\n",
              "      </button>\n",
              "      \n",
              "  <style>\n",
              "    .colab-df-container {\n",
              "      display:flex;\n",
              "      flex-wrap:wrap;\n",
              "      gap: 12px;\n",
              "    }\n",
              "\n",
              "    .colab-df-convert {\n",
              "      background-color: #E8F0FE;\n",
              "      border: none;\n",
              "      border-radius: 50%;\n",
              "      cursor: pointer;\n",
              "      display: none;\n",
              "      fill: #1967D2;\n",
              "      height: 32px;\n",
              "      padding: 0 0 0 0;\n",
              "      width: 32px;\n",
              "    }\n",
              "\n",
              "    .colab-df-convert:hover {\n",
              "      background-color: #E2EBFA;\n",
              "      box-shadow: 0px 1px 2px rgba(60, 64, 67, 0.3), 0px 1px 3px 1px rgba(60, 64, 67, 0.15);\n",
              "      fill: #174EA6;\n",
              "    }\n",
              "\n",
              "    [theme=dark] .colab-df-convert {\n",
              "      background-color: #3B4455;\n",
              "      fill: #D2E3FC;\n",
              "    }\n",
              "\n",
              "    [theme=dark] .colab-df-convert:hover {\n",
              "      background-color: #434B5C;\n",
              "      box-shadow: 0px 1px 3px 1px rgba(0, 0, 0, 0.15);\n",
              "      filter: drop-shadow(0px 1px 2px rgba(0, 0, 0, 0.3));\n",
              "      fill: #FFFFFF;\n",
              "    }\n",
              "  </style>\n",
              "\n",
              "      <script>\n",
              "        const buttonEl =\n",
              "          document.querySelector('#df-4065d877-6cab-4c5b-ac7c-69c8b33c3b39 button.colab-df-convert');\n",
              "        buttonEl.style.display =\n",
              "          google.colab.kernel.accessAllowed ? 'block' : 'none';\n",
              "\n",
              "        async function convertToInteractive(key) {\n",
              "          const element = document.querySelector('#df-4065d877-6cab-4c5b-ac7c-69c8b33c3b39');\n",
              "          const dataTable =\n",
              "            await google.colab.kernel.invokeFunction('convertToInteractive',\n",
              "                                                     [key], {});\n",
              "          if (!dataTable) return;\n",
              "\n",
              "          const docLinkHtml = 'Like what you see? Visit the ' +\n",
              "            '<a target=\"_blank\" href=https://colab.research.google.com/notebooks/data_table.ipynb>data table notebook</a>'\n",
              "            + ' to learn more about interactive tables.';\n",
              "          element.innerHTML = '';\n",
              "          dataTable['output_type'] = 'display_data';\n",
              "          await google.colab.output.renderOutput(dataTable, element);\n",
              "          const docLink = document.createElement('div');\n",
              "          docLink.innerHTML = docLinkHtml;\n",
              "          element.appendChild(docLink);\n",
              "        }\n",
              "      </script>\n",
              "    </div>\n",
              "  </div>\n",
              "  "
            ]
          },
          "metadata": {},
          "execution_count": 8
        }
      ]
    },
    {
      "cell_type": "markdown",
      "source": [
        "# Document term matrix"
      ],
      "metadata": {
        "id": "piQjbSUykmkx"
      }
    },
    {
      "cell_type": "markdown",
      "source": [
        "## Bag of word"
      ],
      "metadata": {
        "id": "zMdzm2Raktnm"
      }
    },
    {
      "cell_type": "code",
      "source": [
        "from sklearn.feature_extraction.text import CountVectorizer"
      ],
      "metadata": {
        "id": "6--niP0Ckdcl"
      },
      "execution_count": null,
      "outputs": []
    },
    {
      "cell_type": "markdown",
      "source": [
        "สร้าง function Bag_of_word เป็นการเก็บคำในเอกสารทั้งหมด และจะบอกว่าแต่ละข่าวมีคำศัพท์นั้นๆ กี่คำ\n",
        "\n",
        "เป็น function ที่รับค่า dataframe และ return เป็นค่าของ matrix ที่มีมิติตามจำนวนข่าว และจำนวนคำศัพท์ทั้งหมดใน corpus"
      ],
      "metadata": {
        "id": "bv4R-6_gk0bm"
      }
    },
    {
      "cell_type": "code",
      "source": [
        "def Bag_of_word(data):\n",
        "  vectorizer = CountVectorizer()\n",
        "  # สร้าง corpus เป็น list ที่เก็บค่าของแต่ละ row ใน column content\n",
        "  corpus = df_clean['content'].copy().tolist()\n",
        "  X = vectorizer.fit_transform(corpus)\n",
        "  return X"
      ],
      "metadata": {
        "id": "SZXc579Ikxs9"
      },
      "execution_count": null,
      "outputs": []
    },
    {
      "cell_type": "code",
      "source": [
        "# สร้าง matrix X โดยนำ dataframe df_clean เข้า function Bag_of_word\n",
        "X = Bag_of_word(df_clean)\n",
        "# เช็คมิติของ matrix X\n",
        "X.shape"
      ],
      "metadata": {
        "colab": {
          "base_uri": "https://localhost:8080/"
        },
        "id": "iX4V7QCuk3_2",
        "outputId": "759effe1-3668-4047-a00f-7eccaa91cc59"
      },
      "execution_count": null,
      "outputs": [
        {
          "output_type": "execute_result",
          "data": {
            "text/plain": [
              "(1408, 18152)"
            ]
          },
          "metadata": {},
          "execution_count": 11
        }
      ]
    },
    {
      "cell_type": "markdown",
      "source": [
        "## TF-IDF"
      ],
      "metadata": {
        "id": "6DtSn4lmk85O"
      }
    },
    {
      "cell_type": "markdown",
      "source": [
        "สร้าง function TF_IDF เป็นการเก็บคำในเอกสารทั้งหมด และจะบอกว่าคำศัพท์แต่ละคำในข่าวมีค่านำ้หนักความสำคัญใน corpus เป็นเท่าใด\n",
        "\n",
        "เป็น function ที่รับค่า dataframe และ return เป็นค่าของเวกเตอร์ที่มีมิติตามจำนวนข่าว และจำนวนคำศัพท์ทั้งหมดใน corpus"
      ],
      "metadata": {
        "id": "VfnhreYTk_oJ"
      }
    },
    {
      "cell_type": "code",
      "source": [
        "from sklearn.feature_extraction.text import TfidfVectorizer"
      ],
      "metadata": {
        "id": "FTf0SfX3lUOn"
      },
      "execution_count": null,
      "outputs": []
    },
    {
      "cell_type": "code",
      "source": [
        "def TF_IDF(data):\n",
        "  # สร้าง corpus เป็น list ที่เก็บค่าของแต่ละ row ใน column content\n",
        "  corpus = data.copy().content.to_list()\n",
        "  vectorizer = TfidfVectorizer()\n",
        "  X = vectorizer.fit_transform(corpus)\n",
        "  vectorizer.get_feature_names_out()\n",
        "  return X"
      ],
      "metadata": {
        "id": "143Qbamdk5p6"
      },
      "execution_count": null,
      "outputs": []
    },
    {
      "cell_type": "code",
      "source": [
        "# สร้าง matrix X โดยนำ dataframe df_clean เข้า function TF_IDF\n",
        "X = TF_IDF(df_clean)\n",
        "# เช็คมิติของ matrix X\n",
        "X.shape"
      ],
      "metadata": {
        "colab": {
          "base_uri": "https://localhost:8080/"
        },
        "id": "KVrLbf2VlCoo",
        "outputId": "837bfbbe-2423-4576-dd72-08fefdbb53cb"
      },
      "execution_count": null,
      "outputs": [
        {
          "output_type": "execute_result",
          "data": {
            "text/plain": [
              "(1408, 18152)"
            ]
          },
          "metadata": {},
          "execution_count": 18
        }
      ]
    },
    {
      "cell_type": "markdown",
      "source": [
        "# Modeling\n",
        "- KNN\n",
        "- Naive Bayes\n",
        "- Xgboost\n",
        "- SVC\n",
        "- LogisticRegression\n",
        "- Random frorest"
      ],
      "metadata": {
        "id": "rkh1x9A8lX19"
      }
    },
    {
      "cell_type": "code",
      "source": [
        "from sklearn.neighbors import KNeighborsClassifier\n",
        "from sklearn.metrics import classification_report\n",
        "from sklearn.model_selection import train_test_split\n",
        "from sklearn.naive_bayes import GaussianNB\n",
        "from sklearn.ensemble import GradientBoostingClassifier\n",
        "from sklearn.pipeline import make_pipeline\n",
        "from sklearn.preprocessing import StandardScaler\n",
        "from sklearn.svm import SVC\n",
        "from sklearn.linear_model import LogisticRegression\n",
        "from sklearn.ensemble import RandomForestClassifier\n",
        "from sklearn.model_selection import cross_val_score\n",
        "from sklearn.metrics import accuracy_score"
      ],
      "metadata": {
        "id": "ueKsM22jlEMb"
      },
      "execution_count": null,
      "outputs": []
    },
    {
      "cell_type": "markdown",
      "source": [
        "สร้าง function model โดยรับค่า X (array ของ Document term matrix) และ y (array ที่เก็บค่า category)"
      ],
      "metadata": {
        "id": "X3JewHpflgc4"
      }
    },
    {
      "cell_type": "code",
      "source": [
        "def model(X, y):\n",
        "  # Split Data 80:20\n",
        "  X_train, X_test, y_train, y_test = train_test_split(X, y, test_size=0.20, random_state=63070243)\n",
        "\n",
        "  # KNN modeling\n",
        "  # ใช้ n = 3\n",
        "  neigh = KNeighborsClassifier(n_neighbors=3)\n",
        "  neigh.fit(X_train, y_train)\n",
        "  predicted = neigh.predict(X_test)\n",
        "  print('KNN model')\n",
        "  print(classification_report(y_test, predicted))\n",
        "  print('Mean 5-fold cross validation: {}'.format(cross_val_score(neigh, X, y, cv = 5).mean()))\n",
        "  print('--------------------------------------------------------')\n",
        "\n",
        "  # Naive Bayes\n",
        "  gnb = GaussianNB()\n",
        "  predicted = gnb.fit(X_train, y_train).predict(X_test)\n",
        "  print('Naive Bayes model')\n",
        "  print(classification_report(y_test, predicted))\n",
        "  print('Mean 5-fold cross validation: {}'.format(cross_val_score(gnb, X, y, cv = 5).mean()))\n",
        "  print('--------------------------------------------------------')\n",
        "\n",
        "  # Xgboost\n",
        "  clf = GradientBoostingClassifier(n_estimators=100, learning_rate=1.0,\n",
        "    max_depth=1, random_state=0).fit(X_train, y_train)\n",
        "  predicted = clf.predict(X_test)\n",
        "  print('Xgboost')\n",
        "  print(classification_report(y_test, predicted))\n",
        "  print('Mean 5-fold cross validation: {}'.format(cross_val_score(clf, X, y, cv = 5).mean()))\n",
        "  print('--------------------------------------------------------')\n",
        "\n",
        "  # SVC\n",
        "  clf = make_pipeline(StandardScaler(), SVC(gamma='auto'))\n",
        "  clf.fit(X_train, y_train)\n",
        "  predicted = clf.predict(X_test)\n",
        "  print('SVC')\n",
        "  print(classification_report(y_test, predicted))\n",
        "  print('Mean 5-fold cross validation: {}'.format(cross_val_score(clf, X, y, cv = 5).mean()))\n",
        "  print('--------------------------------------------------------')\n",
        "\n",
        "  # LogisticRegerssion\n",
        "  clf = LogisticRegression(random_state=0).fit(X_train, y_train)\n",
        "  predicted = clf.predict(X_test)\n",
        "  print('LogisticRegerssion')\n",
        "  print(classification_report(y_test, predicted))\n",
        "  print('Mean 5-fold cross validation: {}'.format(cross_val_score(clf, X, y, cv = 5).mean()))\n",
        "  print('--------------------------------------------------------')\n",
        "\n",
        "  # Random forest\n",
        "  clf = RandomForestClassifier(max_depth=9000, random_state=0)\n",
        "  clf.fit(X_train, y_train)\n",
        "  predicted = clf.predict(X_test)\n",
        "  print('Random forest')\n",
        "  print(classification_report(y_test, predicted))\n",
        "  print('Mean 5-fold cross validation: {}'.format(cross_val_score(clf, X, y, cv = 5).mean()))\n",
        "  print('--------------------------------------------------------')\n"
      ],
      "metadata": {
        "id": "17NywfxllcN5"
      },
      "execution_count": null,
      "outputs": []
    },
    {
      "cell_type": "markdown",
      "source": [
        "# Merge function"
      ],
      "metadata": {
        "id": "qHkKpm1XllDj"
      }
    },
    {
      "cell_type": "markdown",
      "source": [
        "## Experiment 1"
      ],
      "metadata": {
        "id": "f86-vU7qlnkf"
      }
    },
    {
      "cell_type": "code",
      "source": [
        "news = pd.read_csv('/content/news.csv')\n",
        "news_title = news[['category','title_content']]\n",
        "news_title.columns = ['category','content']\n",
        "news_content = news[['category','content']]"
      ],
      "metadata": {
        "id": "RHSrAP77li1Y"
      },
      "execution_count": null,
      "outputs": []
    },
    {
      "cell_type": "markdown",
      "source": [
        "สร้างฟังก์ชันที่รวม preprocess, tf_idf, modeling เข้าด้วยกัน เป็น pipeline"
      ],
      "metadata": {
        "id": "OFQVUqwylvZh"
      }
    },
    {
      "cell_type": "code",
      "source": [
        "def tf_idf_model(data):\n",
        "  df = data.copy()\n",
        "  # ทำ text Pre-Processing ด้วยการทำ stem แบบ porter, lemmatization และ removing stop words\n",
        "  # ผ่าน function clean_data ซึ่งรับค่าเป็น dataframe และ return เป็น dataframe\n",
        "  df = clean_data(df)\n",
        "\n",
        "  # ทำ TF-IDF เก็บคำในเอกสารทั้งหมด และจะบอกว่าคำศัพท์แต่ละคำในข่าวมีค่านำ้หนักความสำคัญใน corpus เป็นเท่าใด\n",
        "  # ผ่าน function TF_IDF ซึ่งรับค่าเป็น dataframe และ return เป็น matrix\n",
        "  X = TF_IDF(df)\n",
        "  X = X.toarray()\n",
        "  # สร้าง NumPy array โดยใช้ข้อมูลจาก column category ของ dataframe df\n",
        "  y = df['category'].to_numpy()\n",
        "\n",
        "  model(X, y)"
      ],
      "metadata": {
        "id": "YRTDtr4llt1U"
      },
      "execution_count": null,
      "outputs": []
    },
    {
      "cell_type": "markdown",
      "source": [
        "news_content (news) ทำ TF-IDF รวมกับทุก Model"
      ],
      "metadata": {
        "id": "zaTIMnqQl1FY"
      }
    },
    {
      "cell_type": "code",
      "source": [
        "tf_idf_model(news_content)"
      ],
      "metadata": {
        "colab": {
          "base_uri": "https://localhost:8080/"
        },
        "id": "9ZJvZM13lxet",
        "outputId": "e23f7321-c1d4-4efc-b8f1-389a4219c58d"
      },
      "execution_count": null,
      "outputs": [
        {
          "output_type": "stream",
          "name": "stdout",
          "text": [
            "KNN model\n",
            "              precision    recall  f1-score   support\n",
            "\n",
            "    business       0.97      0.91      0.94       110\n",
            "       sport       0.97      0.98      0.98       102\n",
            "  technology       0.91      0.99      0.95        70\n",
            "\n",
            "    accuracy                           0.95       282\n",
            "   macro avg       0.95      0.96      0.95       282\n",
            "weighted avg       0.96      0.95      0.95       282\n",
            "\n",
            "Mean 5-fold cross validation: 0.9531258675954671\n",
            "--------------------------------------------------------\n",
            "Naive Bayes model\n",
            "              precision    recall  f1-score   support\n",
            "\n",
            "    business       0.98      0.85      0.91       110\n",
            "       sport       0.92      1.00      0.96       102\n",
            "  technology       0.88      0.94      0.91        70\n",
            "\n",
            "    accuracy                           0.93       282\n",
            "   macro avg       0.93      0.93      0.93       282\n",
            "weighted avg       0.93      0.93      0.93       282\n",
            "\n",
            "Mean 5-fold cross validation: 0.9374977915751748\n",
            "--------------------------------------------------------\n",
            "Xgboost\n",
            "              precision    recall  f1-score   support\n",
            "\n",
            "    business       0.99      0.98      0.99       110\n",
            "       sport       0.99      1.00      1.00       102\n",
            "  technology       0.99      0.99      0.99        70\n",
            "\n",
            "    accuracy                           0.99       282\n",
            "   macro avg       0.99      0.99      0.99       282\n",
            "weighted avg       0.99      0.99      0.99       282\n",
            "\n",
            "Mean 5-fold cross validation: 0.9573811867444032\n",
            "--------------------------------------------------------\n",
            "SVC\n",
            "              precision    recall  f1-score   support\n",
            "\n",
            "    business       0.98      0.86      0.92       110\n",
            "       sport       0.97      0.89      0.93       102\n",
            "  technology       0.74      0.96      0.83        70\n",
            "\n",
            "    accuracy                           0.90       282\n",
            "   macro avg       0.89      0.90      0.89       282\n",
            "weighted avg       0.91      0.90      0.90       282\n",
            "\n",
            "Mean 5-fold cross validation: 0.9190277882940865\n",
            "--------------------------------------------------------\n",
            "LogisticRegerssion\n",
            "              precision    recall  f1-score   support\n",
            "\n",
            "    business       0.99      0.97      0.98       110\n",
            "       sport       0.99      0.99      0.99       102\n",
            "  technology       0.96      0.99      0.97        70\n",
            "\n",
            "    accuracy                           0.98       282\n",
            "   macro avg       0.98      0.98      0.98       282\n",
            "weighted avg       0.98      0.98      0.98       282\n",
            "\n",
            "Mean 5-fold cross validation: 0.9801065091744275\n",
            "--------------------------------------------------------\n",
            "Random forest\n",
            "              precision    recall  f1-score   support\n",
            "\n",
            "    business       0.99      0.98      0.99       110\n",
            "       sport       0.99      0.99      0.99       102\n",
            "  technology       0.99      1.00      0.99        70\n",
            "\n",
            "    accuracy                           0.99       282\n",
            "   macro avg       0.99      0.99      0.99       282\n",
            "weighted avg       0.99      0.99      0.99       282\n",
            "\n",
            "Mean 5-fold cross validation: 0.9701622876757275\n",
            "--------------------------------------------------------\n"
          ]
        }
      ]
    },
    {
      "cell_type": "markdown",
      "source": [
        "news_title (news + title) ทำ TF-IDF รวมกับทุก Model"
      ],
      "metadata": {
        "id": "iJXmKiekl7_i"
      }
    },
    {
      "cell_type": "code",
      "source": [
        "tf_idf_model(news_title)"
      ],
      "metadata": {
        "colab": {
          "base_uri": "https://localhost:8080/"
        },
        "id": "Edh72MHjl4AK",
        "outputId": "ef1ff324-a3be-4309-acc7-e642a909d517"
      },
      "execution_count": null,
      "outputs": [
        {
          "output_type": "stream",
          "name": "stdout",
          "text": [
            "KNN model\n",
            "              precision    recall  f1-score   support\n",
            "\n",
            "    business       0.97      0.91      0.94       110\n",
            "       sport       0.97      0.98      0.98       102\n",
            "  technology       0.91      0.99      0.95        70\n",
            "\n",
            "    accuracy                           0.95       282\n",
            "   macro avg       0.95      0.96      0.95       282\n",
            "weighted avg       0.96      0.95      0.95       282\n",
            "\n",
            "Mean 5-fold cross validation: 0.9559677948562632\n",
            "--------------------------------------------------------\n",
            "Naive Bayes model\n",
            "              precision    recall  f1-score   support\n",
            "\n",
            "    business       0.97      0.86      0.91       110\n",
            "       sport       0.93      0.99      0.96       102\n",
            "  technology       0.88      0.94      0.91        70\n",
            "\n",
            "    accuracy                           0.93       282\n",
            "   macro avg       0.93      0.93      0.93       282\n",
            "weighted avg       0.93      0.93      0.93       282\n",
            "\n",
            "Mean 5-fold cross validation: 0.9346583882284648\n",
            "--------------------------------------------------------\n",
            "Xgboost\n",
            "              precision    recall  f1-score   support\n",
            "\n",
            "    business       0.99      0.94      0.96       110\n",
            "       sport       0.97      1.00      0.99       102\n",
            "  technology       0.95      0.99      0.97        70\n",
            "\n",
            "    accuracy                           0.97       282\n",
            "   macro avg       0.97      0.97      0.97       282\n",
            "weighted avg       0.97      0.97      0.97       282\n",
            "\n",
            "Mean 5-fold cross validation: 0.9651927008404634\n",
            "--------------------------------------------------------\n",
            "SVC\n",
            "              precision    recall  f1-score   support\n",
            "\n",
            "    business       0.98      0.85      0.91       110\n",
            "       sport       0.97      0.88      0.92       102\n",
            "  technology       0.71      0.96      0.82        70\n",
            "\n",
            "    accuracy                           0.89       282\n",
            "   macro avg       0.89      0.89      0.88       282\n",
            "weighted avg       0.91      0.89      0.89       282\n",
            "\n",
            "Mean 5-fold cross validation: 0.9069584311350042\n",
            "--------------------------------------------------------\n",
            "LogisticRegerssion\n",
            "              precision    recall  f1-score   support\n",
            "\n",
            "    business       0.99      0.97      0.98       110\n",
            "       sport       0.99      0.99      0.99       102\n",
            "  technology       0.96      0.99      0.97        70\n",
            "\n",
            "    accuracy                           0.98       282\n",
            "   macro avg       0.98      0.98      0.98       282\n",
            "weighted avg       0.98      0.98      0.98       282\n",
            "\n",
            "Mean 5-fold cross validation: 0.9829509603493097\n",
            "--------------------------------------------------------\n",
            "Random forest\n",
            "              precision    recall  f1-score   support\n",
            "\n",
            "    business       0.99      0.99      0.99       110\n",
            "       sport       0.98      0.99      0.99       102\n",
            "  technology       1.00      0.99      0.99        70\n",
            "\n",
            "    accuracy                           0.99       282\n",
            "   macro avg       0.99      0.99      0.99       282\n",
            "weighted avg       0.99      0.99      0.99       282\n",
            "\n",
            "Mean 5-fold cross validation: 0.9694480199893997\n",
            "--------------------------------------------------------\n"
          ]
        }
      ]
    },
    {
      "cell_type": "markdown",
      "source": [
        "## Experiment 2"
      ],
      "metadata": {
        "id": "tqRWhcc9mBUE"
      }
    },
    {
      "cell_type": "markdown",
      "source": [
        "สร้างฟังก์ชันที่รวม preprocess, bag of word, modeling เข้าด้วยกัน เป็น pipeline"
      ],
      "metadata": {
        "id": "IKlIhOb-mDys"
      }
    },
    {
      "cell_type": "code",
      "source": [
        "def bag_of_word_model(data):\n",
        "  df = data.copy()\n",
        "  # ทำ text Pre-Processing ด้วยการทำ stem แบบ porter, lemmatization และ removing stop words\n",
        "  # ผ่าน function clean_data ซึ่งรับค่าเป็น dataframe และ return เป็น dataframe\n",
        "  df = clean_data(df)\n",
        "  # ทำ baf of word เก็บคำในเอกสารทั้งหมด และจะบอกว่าแต่ละข่าวมีคำศัพท์นั้นๆ กี่คำ\n",
        "  # ผ่าน function Bag_of_word ซึ่งรับค่าเป็น dataframe และ return เป็น matrix\n",
        "  X = Bag_of_word(df)\n",
        "  X = X.toarray()\n",
        "  # สร้าง NumPy array โดยใช้ข้อมูลจาก column category ของ dataframe df\n",
        "  y = df['category'].to_numpy()\n",
        "\n",
        "  model(X, y)"
      ],
      "metadata": {
        "id": "u5EdyVRWl-9O"
      },
      "execution_count": null,
      "outputs": []
    },
    {
      "cell_type": "markdown",
      "source": [
        "news_content (news) ทำ bag of word รวมกับทุก Model"
      ],
      "metadata": {
        "id": "vipOEUB2mI2_"
      }
    },
    {
      "cell_type": "code",
      "source": [
        "bag_of_word_model(news_content)"
      ],
      "metadata": {
        "colab": {
          "base_uri": "https://localhost:8080/"
        },
        "id": "6DBe_mL3mGgB",
        "outputId": "c77cd2f3-d0b6-4bbe-9be8-5ab06da45f91"
      },
      "execution_count": null,
      "outputs": [
        {
          "output_type": "stream",
          "name": "stdout",
          "text": [
            "KNN model\n",
            "              precision    recall  f1-score   support\n",
            "\n",
            "    business       0.90      0.68      0.78       110\n",
            "       sport       0.64      0.99      0.78       102\n",
            "  technology       0.98      0.59      0.73        70\n",
            "\n",
            "    accuracy                           0.77       282\n",
            "   macro avg       0.84      0.75      0.76       282\n",
            "weighted avg       0.83      0.77      0.77       282\n",
            "\n",
            "Mean 5-fold cross validation: 0.7706165922112012\n",
            "--------------------------------------------------------\n",
            "Naive Bayes model\n",
            "              precision    recall  f1-score   support\n",
            "\n",
            "    business       0.96      0.86      0.91       110\n",
            "       sport       0.93      0.98      0.96       102\n",
            "  technology       0.88      0.96      0.92        70\n",
            "\n",
            "    accuracy                           0.93       282\n",
            "   macro avg       0.93      0.93      0.93       282\n",
            "weighted avg       0.93      0.93      0.93       282\n",
            "\n",
            "Mean 5-fold cross validation: 0.9403346710077989\n",
            "--------------------------------------------------------\n",
            "Xgboost\n",
            "              precision    recall  f1-score   support\n",
            "\n",
            "    business       0.97      0.95      0.96       110\n",
            "       sport       0.98      0.99      0.99       102\n",
            "  technology       0.96      0.97      0.96        70\n",
            "\n",
            "    accuracy                           0.97       282\n",
            "   macro avg       0.97      0.97      0.97       282\n",
            "weighted avg       0.97      0.97      0.97       282\n",
            "\n",
            "Mean 5-fold cross validation: 0.9552560510840211\n",
            "--------------------------------------------------------\n",
            "SVC\n",
            "              precision    recall  f1-score   support\n",
            "\n",
            "    business       0.97      0.83      0.89       110\n",
            "       sport       0.97      0.89      0.93       102\n",
            "  technology       0.71      0.96      0.82        70\n",
            "\n",
            "    accuracy                           0.88       282\n",
            "   macro avg       0.88      0.89      0.88       282\n",
            "weighted avg       0.90      0.88      0.89       282\n",
            "\n",
            "Mean 5-fold cross validation: 0.8763963554680598\n",
            "--------------------------------------------------------\n"
          ]
        },
        {
          "output_type": "stream",
          "name": "stderr",
          "text": [
            "/usr/local/lib/python3.7/dist-packages/sklearn/linear_model/_logistic.py:818: ConvergenceWarning: lbfgs failed to converge (status=1):\n",
            "STOP: TOTAL NO. of ITERATIONS REACHED LIMIT.\n",
            "\n",
            "Increase the number of iterations (max_iter) or scale the data as shown in:\n",
            "    https://scikit-learn.org/stable/modules/preprocessing.html\n",
            "Please also refer to the documentation for alternative solver options:\n",
            "    https://scikit-learn.org/stable/modules/linear_model.html#logistic-regression\n",
            "  extra_warning_msg=_LOGISTIC_SOLVER_CONVERGENCE_MSG,\n"
          ]
        },
        {
          "output_type": "stream",
          "name": "stdout",
          "text": [
            "LogisticRegerssion\n",
            "              precision    recall  f1-score   support\n",
            "\n",
            "    business       1.00      0.95      0.98       110\n",
            "       sport       0.99      1.00      1.00       102\n",
            "  technology       0.95      1.00      0.97        70\n",
            "\n",
            "    accuracy                           0.98       282\n",
            "   macro avg       0.98      0.98      0.98       282\n",
            "weighted avg       0.98      0.98      0.98       282\n",
            "\n"
          ]
        },
        {
          "output_type": "stream",
          "name": "stderr",
          "text": [
            "/usr/local/lib/python3.7/dist-packages/sklearn/linear_model/_logistic.py:818: ConvergenceWarning: lbfgs failed to converge (status=1):\n",
            "STOP: TOTAL NO. of ITERATIONS REACHED LIMIT.\n",
            "\n",
            "Increase the number of iterations (max_iter) or scale the data as shown in:\n",
            "    https://scikit-learn.org/stable/modules/preprocessing.html\n",
            "Please also refer to the documentation for alternative solver options:\n",
            "    https://scikit-learn.org/stable/modules/linear_model.html#logistic-regression\n",
            "  extra_warning_msg=_LOGISTIC_SOLVER_CONVERGENCE_MSG,\n",
            "/usr/local/lib/python3.7/dist-packages/sklearn/linear_model/_logistic.py:818: ConvergenceWarning: lbfgs failed to converge (status=1):\n",
            "STOP: TOTAL NO. of ITERATIONS REACHED LIMIT.\n",
            "\n",
            "Increase the number of iterations (max_iter) or scale the data as shown in:\n",
            "    https://scikit-learn.org/stable/modules/preprocessing.html\n",
            "Please also refer to the documentation for alternative solver options:\n",
            "    https://scikit-learn.org/stable/modules/linear_model.html#logistic-regression\n",
            "  extra_warning_msg=_LOGISTIC_SOLVER_CONVERGENCE_MSG,\n",
            "/usr/local/lib/python3.7/dist-packages/sklearn/linear_model/_logistic.py:818: ConvergenceWarning: lbfgs failed to converge (status=1):\n",
            "STOP: TOTAL NO. of ITERATIONS REACHED LIMIT.\n",
            "\n",
            "Increase the number of iterations (max_iter) or scale the data as shown in:\n",
            "    https://scikit-learn.org/stable/modules/preprocessing.html\n",
            "Please also refer to the documentation for alternative solver options:\n",
            "    https://scikit-learn.org/stable/modules/linear_model.html#logistic-regression\n",
            "  extra_warning_msg=_LOGISTIC_SOLVER_CONVERGENCE_MSG,\n"
          ]
        },
        {
          "output_type": "stream",
          "name": "stdout",
          "text": [
            "Mean 5-fold cross validation: 0.9794048610585296\n",
            "--------------------------------------------------------\n",
            "Random forest\n",
            "              precision    recall  f1-score   support\n",
            "\n",
            "    business       1.00      0.98      0.99       110\n",
            "       sport       0.98      1.00      0.99       102\n",
            "  technology       0.99      0.99      0.99        70\n",
            "\n",
            "    accuracy                           0.99       282\n",
            "   macro avg       0.99      0.99      0.99       282\n",
            "weighted avg       0.99      0.99      0.99       282\n",
            "\n",
            "Mean 5-fold cross validation: 0.9694505439034854\n",
            "--------------------------------------------------------\n"
          ]
        }
      ]
    },
    {
      "cell_type": "markdown",
      "source": [
        "news_title (news + title) ทำ bag of word รวมกับทุก Model"
      ],
      "metadata": {
        "id": "x6qom5jQmNek"
      }
    },
    {
      "cell_type": "code",
      "source": [
        "bag_of_word_model(news_title)"
      ],
      "metadata": {
        "colab": {
          "base_uri": "https://localhost:8080/"
        },
        "id": "9XeoCfaamLCk",
        "outputId": "4648e5fd-9847-4c23-8e1c-fb237892fb47"
      },
      "execution_count": null,
      "outputs": [
        {
          "output_type": "stream",
          "name": "stdout",
          "text": [
            "KNN model\n",
            "              precision    recall  f1-score   support\n",
            "\n",
            "    business       0.90      0.68      0.78       110\n",
            "       sport       0.64      0.99      0.78       102\n",
            "  technology       0.98      0.59      0.73        70\n",
            "\n",
            "    accuracy                           0.77       282\n",
            "   macro avg       0.84      0.75      0.76       282\n",
            "weighted avg       0.83      0.77      0.77       282\n",
            "\n",
            "Mean 5-fold cross validation: 0.7706165922112012\n",
            "--------------------------------------------------------\n",
            "Naive Bayes model\n",
            "              precision    recall  f1-score   support\n",
            "\n",
            "    business       0.96      0.86      0.91       110\n",
            "       sport       0.93      0.98      0.96       102\n",
            "  technology       0.88      0.96      0.92        70\n",
            "\n",
            "    accuracy                           0.93       282\n",
            "   macro avg       0.93      0.93      0.93       282\n",
            "weighted avg       0.93      0.93      0.93       282\n",
            "\n",
            "Mean 5-fold cross validation: 0.9403346710077989\n",
            "--------------------------------------------------------\n",
            "Xgboost\n",
            "              precision    recall  f1-score   support\n",
            "\n",
            "    business       0.97      0.95      0.96       110\n",
            "       sport       0.98      0.99      0.99       102\n",
            "  technology       0.96      0.97      0.96        70\n",
            "\n",
            "    accuracy                           0.97       282\n",
            "   macro avg       0.97      0.97      0.97       282\n",
            "weighted avg       0.97      0.97      0.97       282\n",
            "\n",
            "Mean 5-fold cross validation: 0.9552560510840211\n",
            "--------------------------------------------------------\n",
            "SVC\n",
            "              precision    recall  f1-score   support\n",
            "\n",
            "    business       0.97      0.83      0.89       110\n",
            "       sport       0.97      0.89      0.93       102\n",
            "  technology       0.71      0.96      0.82        70\n",
            "\n",
            "    accuracy                           0.88       282\n",
            "   macro avg       0.88      0.89      0.88       282\n",
            "weighted avg       0.90      0.88      0.89       282\n",
            "\n",
            "Mean 5-fold cross validation: 0.8763963554680598\n",
            "--------------------------------------------------------\n"
          ]
        },
        {
          "output_type": "stream",
          "name": "stderr",
          "text": [
            "/usr/local/lib/python3.7/dist-packages/sklearn/linear_model/_logistic.py:818: ConvergenceWarning: lbfgs failed to converge (status=1):\n",
            "STOP: TOTAL NO. of ITERATIONS REACHED LIMIT.\n",
            "\n",
            "Increase the number of iterations (max_iter) or scale the data as shown in:\n",
            "    https://scikit-learn.org/stable/modules/preprocessing.html\n",
            "Please also refer to the documentation for alternative solver options:\n",
            "    https://scikit-learn.org/stable/modules/linear_model.html#logistic-regression\n",
            "  extra_warning_msg=_LOGISTIC_SOLVER_CONVERGENCE_MSG,\n"
          ]
        },
        {
          "output_type": "stream",
          "name": "stdout",
          "text": [
            "LogisticRegerssion\n",
            "              precision    recall  f1-score   support\n",
            "\n",
            "    business       1.00      0.95      0.98       110\n",
            "       sport       0.99      1.00      1.00       102\n",
            "  technology       0.95      1.00      0.97        70\n",
            "\n",
            "    accuracy                           0.98       282\n",
            "   macro avg       0.98      0.98      0.98       282\n",
            "weighted avg       0.98      0.98      0.98       282\n",
            "\n"
          ]
        },
        {
          "output_type": "stream",
          "name": "stderr",
          "text": [
            "/usr/local/lib/python3.7/dist-packages/sklearn/linear_model/_logistic.py:818: ConvergenceWarning: lbfgs failed to converge (status=1):\n",
            "STOP: TOTAL NO. of ITERATIONS REACHED LIMIT.\n",
            "\n",
            "Increase the number of iterations (max_iter) or scale the data as shown in:\n",
            "    https://scikit-learn.org/stable/modules/preprocessing.html\n",
            "Please also refer to the documentation for alternative solver options:\n",
            "    https://scikit-learn.org/stable/modules/linear_model.html#logistic-regression\n",
            "  extra_warning_msg=_LOGISTIC_SOLVER_CONVERGENCE_MSG,\n",
            "/usr/local/lib/python3.7/dist-packages/sklearn/linear_model/_logistic.py:818: ConvergenceWarning: lbfgs failed to converge (status=1):\n",
            "STOP: TOTAL NO. of ITERATIONS REACHED LIMIT.\n",
            "\n",
            "Increase the number of iterations (max_iter) or scale the data as shown in:\n",
            "    https://scikit-learn.org/stable/modules/preprocessing.html\n",
            "Please also refer to the documentation for alternative solver options:\n",
            "    https://scikit-learn.org/stable/modules/linear_model.html#logistic-regression\n",
            "  extra_warning_msg=_LOGISTIC_SOLVER_CONVERGENCE_MSG,\n",
            "/usr/local/lib/python3.7/dist-packages/sklearn/linear_model/_logistic.py:818: ConvergenceWarning: lbfgs failed to converge (status=1):\n",
            "STOP: TOTAL NO. of ITERATIONS REACHED LIMIT.\n",
            "\n",
            "Increase the number of iterations (max_iter) or scale the data as shown in:\n",
            "    https://scikit-learn.org/stable/modules/preprocessing.html\n",
            "Please also refer to the documentation for alternative solver options:\n",
            "    https://scikit-learn.org/stable/modules/linear_model.html#logistic-regression\n",
            "  extra_warning_msg=_LOGISTIC_SOLVER_CONVERGENCE_MSG,\n"
          ]
        },
        {
          "output_type": "stream",
          "name": "stdout",
          "text": [
            "Mean 5-fold cross validation: 0.9794048610585296\n",
            "--------------------------------------------------------\n",
            "Random forest\n",
            "              precision    recall  f1-score   support\n",
            "\n",
            "    business       1.00      0.98      0.99       110\n",
            "       sport       0.98      1.00      0.99       102\n",
            "  technology       0.99      0.99      0.99        70\n",
            "\n",
            "    accuracy                           0.99       282\n",
            "   macro avg       0.99      0.99      0.99       282\n",
            "weighted avg       0.99      0.99      0.99       282\n",
            "\n",
            "Mean 5-fold cross validation: 0.9694505439034854\n",
            "--------------------------------------------------------\n"
          ]
        }
      ]
    },
    {
      "cell_type": "markdown",
      "source": [
        "จาก Experiment1 การใช้ TF-IDF ในการทำ classification ในข้อมูลเฉพาะเนื้อหาของข่าว(news_content) และหัวข้อข่าว+เนื้อหาของข่าว(news_title) เมื่อนำเข้า model(KNN, Naive Bayes, Xgboost, SVC, LogisticRegression, Random frorest)\n",
        "ทำให้เห็นว่าค่า accuracy นั้นมีค่าใกล้เคียงกันมาก\n",
        "\n",
        "แต่ Experiment2 ซึ่งใช้ Bag of word ในการทำ classification จะเห็นได้ว่าค่า accuracy ของ model นั้นเหมือนกันทั้ง news_content และ news_title"
      ],
      "metadata": {
        "id": "ifNYjnqomSKw"
      }
    },
    {
      "cell_type": "markdown",
      "source": [
        "```\n",
        "TF-IDF\n",
        "                  KNN  NaiveBayes Xgboost   SVC  LogisticRegression  RamdomFrorest\n",
        "  news_content   0.953    0.937    0.957   0.919        0.980            0.970\n",
        "  news_title     0.955    0.935    0.965   0.907        0.983            0.969\n",
        "```"
      ],
      "metadata": {
        "id": "TGAzUXfUmWBH"
      }
    },
    {
      "cell_type": "markdown",
      "source": [
        "```\n",
        "Bag of words\n",
        "                  KNN  NaiveBayes Xgboost   SVC  LogisticRegression  RamdomFrorest\n",
        "  news_content   0.771    0.940    0.955   0.876        0.979            0.969\n",
        "  news_title     0.771    0.940    0.955   0.876        0.979            0.969\n",
        "```"
      ],
      "metadata": {
        "id": "5bVyAuuJmYka"
      }
    },
    {
      "cell_type": "markdown",
      "source": [
        "จาก Experiment1 และ Experiment2 ทำให้ทราบว่า\n",
        "model logistic Regression โดยใช้ข้อมูล news_title และใช้ document term metric แบบ TF-IDF นั้นได้ accuracy สูงที่สุดคือ 0.983"
      ],
      "metadata": {
        "id": "yq9qvehlmbPh"
      }
    }
  ],
  "metadata": {
    "colab": {
      "provenance": [],
      "include_colab_link": true
    },
    "kernelspec": {
      "display_name": "Python 3",
      "name": "python3"
    },
    "language_info": {
      "name": "python"
    },
    "widgets": {
      "application/vnd.jupyter.widget-state+json": {
        "bc2c14b3eece4fdba106986e61d99ac6": {
          "model_module": "@jupyter-widgets/controls",
          "model_name": "HBoxModel",
          "model_module_version": "1.5.0",
          "state": {
            "_dom_classes": [],
            "_model_module": "@jupyter-widgets/controls",
            "_model_module_version": "1.5.0",
            "_model_name": "HBoxModel",
            "_view_count": null,
            "_view_module": "@jupyter-widgets/controls",
            "_view_module_version": "1.5.0",
            "_view_name": "HBoxView",
            "box_style": "",
            "children": [
              "IPY_MODEL_447c2ba4f09b4a448cd1a024036c06b8",
              "IPY_MODEL_7549359b492a4ad0ada74efe6640b065",
              "IPY_MODEL_4095e8fd6541434bb5e19b1335d10ad5"
            ],
            "layout": "IPY_MODEL_2f5536d8cce24aa4af4a9ee379ef80a1"
          }
        },
        "447c2ba4f09b4a448cd1a024036c06b8": {
          "model_module": "@jupyter-widgets/controls",
          "model_name": "HTMLModel",
          "model_module_version": "1.5.0",
          "state": {
            "_dom_classes": [],
            "_model_module": "@jupyter-widgets/controls",
            "_model_module_version": "1.5.0",
            "_model_name": "HTMLModel",
            "_view_count": null,
            "_view_module": "@jupyter-widgets/controls",
            "_view_module_version": "1.5.0",
            "_view_name": "HTMLView",
            "description": "",
            "description_tooltip": null,
            "layout": "IPY_MODEL_576d41d7041e41e386ad430a21042a95",
            "placeholder": "​",
            "style": "IPY_MODEL_5ae932c94bbf46d58b1d8a6031a78bc6",
            "value": "100%"
          }
        },
        "7549359b492a4ad0ada74efe6640b065": {
          "model_module": "@jupyter-widgets/controls",
          "model_name": "FloatProgressModel",
          "model_module_version": "1.5.0",
          "state": {
            "_dom_classes": [],
            "_model_module": "@jupyter-widgets/controls",
            "_model_module_version": "1.5.0",
            "_model_name": "FloatProgressModel",
            "_view_count": null,
            "_view_module": "@jupyter-widgets/controls",
            "_view_module_version": "1.5.0",
            "_view_name": "ProgressView",
            "bar_style": "success",
            "description": "",
            "description_tooltip": null,
            "layout": "IPY_MODEL_52855f573fa24fe098ddbb8be7c9838a",
            "max": 1408,
            "min": 0,
            "orientation": "horizontal",
            "style": "IPY_MODEL_aee8ab23d99447b39f048639f58f3640",
            "value": 1408
          }
        },
        "4095e8fd6541434bb5e19b1335d10ad5": {
          "model_module": "@jupyter-widgets/controls",
          "model_name": "HTMLModel",
          "model_module_version": "1.5.0",
          "state": {
            "_dom_classes": [],
            "_model_module": "@jupyter-widgets/controls",
            "_model_module_version": "1.5.0",
            "_model_name": "HTMLModel",
            "_view_count": null,
            "_view_module": "@jupyter-widgets/controls",
            "_view_module_version": "1.5.0",
            "_view_name": "HTMLView",
            "description": "",
            "description_tooltip": null,
            "layout": "IPY_MODEL_6ba3f9eef88f442585a46392c2f19265",
            "placeholder": "​",
            "style": "IPY_MODEL_34edc607e75447c0a27ecd867fca3ac3",
            "value": " 1408/1408 [10:43&lt;00:00,  2.40it/s]"
          }
        },
        "2f5536d8cce24aa4af4a9ee379ef80a1": {
          "model_module": "@jupyter-widgets/base",
          "model_name": "LayoutModel",
          "model_module_version": "1.2.0",
          "state": {
            "_model_module": "@jupyter-widgets/base",
            "_model_module_version": "1.2.0",
            "_model_name": "LayoutModel",
            "_view_count": null,
            "_view_module": "@jupyter-widgets/base",
            "_view_module_version": "1.2.0",
            "_view_name": "LayoutView",
            "align_content": null,
            "align_items": null,
            "align_self": null,
            "border": null,
            "bottom": null,
            "display": null,
            "flex": null,
            "flex_flow": null,
            "grid_area": null,
            "grid_auto_columns": null,
            "grid_auto_flow": null,
            "grid_auto_rows": null,
            "grid_column": null,
            "grid_gap": null,
            "grid_row": null,
            "grid_template_areas": null,
            "grid_template_columns": null,
            "grid_template_rows": null,
            "height": null,
            "justify_content": null,
            "justify_items": null,
            "left": null,
            "margin": null,
            "max_height": null,
            "max_width": null,
            "min_height": null,
            "min_width": null,
            "object_fit": null,
            "object_position": null,
            "order": null,
            "overflow": null,
            "overflow_x": null,
            "overflow_y": null,
            "padding": null,
            "right": null,
            "top": null,
            "visibility": null,
            "width": null
          }
        },
        "576d41d7041e41e386ad430a21042a95": {
          "model_module": "@jupyter-widgets/base",
          "model_name": "LayoutModel",
          "model_module_version": "1.2.0",
          "state": {
            "_model_module": "@jupyter-widgets/base",
            "_model_module_version": "1.2.0",
            "_model_name": "LayoutModel",
            "_view_count": null,
            "_view_module": "@jupyter-widgets/base",
            "_view_module_version": "1.2.0",
            "_view_name": "LayoutView",
            "align_content": null,
            "align_items": null,
            "align_self": null,
            "border": null,
            "bottom": null,
            "display": null,
            "flex": null,
            "flex_flow": null,
            "grid_area": null,
            "grid_auto_columns": null,
            "grid_auto_flow": null,
            "grid_auto_rows": null,
            "grid_column": null,
            "grid_gap": null,
            "grid_row": null,
            "grid_template_areas": null,
            "grid_template_columns": null,
            "grid_template_rows": null,
            "height": null,
            "justify_content": null,
            "justify_items": null,
            "left": null,
            "margin": null,
            "max_height": null,
            "max_width": null,
            "min_height": null,
            "min_width": null,
            "object_fit": null,
            "object_position": null,
            "order": null,
            "overflow": null,
            "overflow_x": null,
            "overflow_y": null,
            "padding": null,
            "right": null,
            "top": null,
            "visibility": null,
            "width": null
          }
        },
        "5ae932c94bbf46d58b1d8a6031a78bc6": {
          "model_module": "@jupyter-widgets/controls",
          "model_name": "DescriptionStyleModel",
          "model_module_version": "1.5.0",
          "state": {
            "_model_module": "@jupyter-widgets/controls",
            "_model_module_version": "1.5.0",
            "_model_name": "DescriptionStyleModel",
            "_view_count": null,
            "_view_module": "@jupyter-widgets/base",
            "_view_module_version": "1.2.0",
            "_view_name": "StyleView",
            "description_width": ""
          }
        },
        "52855f573fa24fe098ddbb8be7c9838a": {
          "model_module": "@jupyter-widgets/base",
          "model_name": "LayoutModel",
          "model_module_version": "1.2.0",
          "state": {
            "_model_module": "@jupyter-widgets/base",
            "_model_module_version": "1.2.0",
            "_model_name": "LayoutModel",
            "_view_count": null,
            "_view_module": "@jupyter-widgets/base",
            "_view_module_version": "1.2.0",
            "_view_name": "LayoutView",
            "align_content": null,
            "align_items": null,
            "align_self": null,
            "border": null,
            "bottom": null,
            "display": null,
            "flex": null,
            "flex_flow": null,
            "grid_area": null,
            "grid_auto_columns": null,
            "grid_auto_flow": null,
            "grid_auto_rows": null,
            "grid_column": null,
            "grid_gap": null,
            "grid_row": null,
            "grid_template_areas": null,
            "grid_template_columns": null,
            "grid_template_rows": null,
            "height": null,
            "justify_content": null,
            "justify_items": null,
            "left": null,
            "margin": null,
            "max_height": null,
            "max_width": null,
            "min_height": null,
            "min_width": null,
            "object_fit": null,
            "object_position": null,
            "order": null,
            "overflow": null,
            "overflow_x": null,
            "overflow_y": null,
            "padding": null,
            "right": null,
            "top": null,
            "visibility": null,
            "width": null
          }
        },
        "aee8ab23d99447b39f048639f58f3640": {
          "model_module": "@jupyter-widgets/controls",
          "model_name": "ProgressStyleModel",
          "model_module_version": "1.5.0",
          "state": {
            "_model_module": "@jupyter-widgets/controls",
            "_model_module_version": "1.5.0",
            "_model_name": "ProgressStyleModel",
            "_view_count": null,
            "_view_module": "@jupyter-widgets/base",
            "_view_module_version": "1.2.0",
            "_view_name": "StyleView",
            "bar_color": null,
            "description_width": ""
          }
        },
        "6ba3f9eef88f442585a46392c2f19265": {
          "model_module": "@jupyter-widgets/base",
          "model_name": "LayoutModel",
          "model_module_version": "1.2.0",
          "state": {
            "_model_module": "@jupyter-widgets/base",
            "_model_module_version": "1.2.0",
            "_model_name": "LayoutModel",
            "_view_count": null,
            "_view_module": "@jupyter-widgets/base",
            "_view_module_version": "1.2.0",
            "_view_name": "LayoutView",
            "align_content": null,
            "align_items": null,
            "align_self": null,
            "border": null,
            "bottom": null,
            "display": null,
            "flex": null,
            "flex_flow": null,
            "grid_area": null,
            "grid_auto_columns": null,
            "grid_auto_flow": null,
            "grid_auto_rows": null,
            "grid_column": null,
            "grid_gap": null,
            "grid_row": null,
            "grid_template_areas": null,
            "grid_template_columns": null,
            "grid_template_rows": null,
            "height": null,
            "justify_content": null,
            "justify_items": null,
            "left": null,
            "margin": null,
            "max_height": null,
            "max_width": null,
            "min_height": null,
            "min_width": null,
            "object_fit": null,
            "object_position": null,
            "order": null,
            "overflow": null,
            "overflow_x": null,
            "overflow_y": null,
            "padding": null,
            "right": null,
            "top": null,
            "visibility": null,
            "width": null
          }
        },
        "34edc607e75447c0a27ecd867fca3ac3": {
          "model_module": "@jupyter-widgets/controls",
          "model_name": "DescriptionStyleModel",
          "model_module_version": "1.5.0",
          "state": {
            "_model_module": "@jupyter-widgets/controls",
            "_model_module_version": "1.5.0",
            "_model_name": "DescriptionStyleModel",
            "_view_count": null,
            "_view_module": "@jupyter-widgets/base",
            "_view_module_version": "1.2.0",
            "_view_name": "StyleView",
            "description_width": ""
          }
        },
        "ad3dd94924dd4466a319bfcc14b3947d": {
          "model_module": "@jupyter-widgets/controls",
          "model_name": "HBoxModel",
          "model_module_version": "1.5.0",
          "state": {
            "_dom_classes": [],
            "_model_module": "@jupyter-widgets/controls",
            "_model_module_version": "1.5.0",
            "_model_name": "HBoxModel",
            "_view_count": null,
            "_view_module": "@jupyter-widgets/controls",
            "_view_module_version": "1.5.0",
            "_view_name": "HBoxView",
            "box_style": "",
            "children": [
              "IPY_MODEL_8934ada9d90e447db648008ca9c225fa",
              "IPY_MODEL_b7b0c8a02347499b9fccbdf99fd2178e",
              "IPY_MODEL_6548b99dbdf24e8c93384ca45916980d"
            ],
            "layout": "IPY_MODEL_99814db74ae743b1b0e918dbb4a2eb9c"
          }
        },
        "8934ada9d90e447db648008ca9c225fa": {
          "model_module": "@jupyter-widgets/controls",
          "model_name": "HTMLModel",
          "model_module_version": "1.5.0",
          "state": {
            "_dom_classes": [],
            "_model_module": "@jupyter-widgets/controls",
            "_model_module_version": "1.5.0",
            "_model_name": "HTMLModel",
            "_view_count": null,
            "_view_module": "@jupyter-widgets/controls",
            "_view_module_version": "1.5.0",
            "_view_name": "HTMLView",
            "description": "",
            "description_tooltip": null,
            "layout": "IPY_MODEL_a93ad5ae77ec419e8929b822e959f87b",
            "placeholder": "​",
            "style": "IPY_MODEL_65a71ececfc144a99ae067b49699e229",
            "value": "100%"
          }
        },
        "b7b0c8a02347499b9fccbdf99fd2178e": {
          "model_module": "@jupyter-widgets/controls",
          "model_name": "FloatProgressModel",
          "model_module_version": "1.5.0",
          "state": {
            "_dom_classes": [],
            "_model_module": "@jupyter-widgets/controls",
            "_model_module_version": "1.5.0",
            "_model_name": "FloatProgressModel",
            "_view_count": null,
            "_view_module": "@jupyter-widgets/controls",
            "_view_module_version": "1.5.0",
            "_view_name": "ProgressView",
            "bar_style": "success",
            "description": "",
            "description_tooltip": null,
            "layout": "IPY_MODEL_ab04420fff2949fa8dac1c47775b78be",
            "max": 12,
            "min": 0,
            "orientation": "horizontal",
            "style": "IPY_MODEL_0a98629358ae40ea82ad8c613a4f2e44",
            "value": 12
          }
        },
        "6548b99dbdf24e8c93384ca45916980d": {
          "model_module": "@jupyter-widgets/controls",
          "model_name": "HTMLModel",
          "model_module_version": "1.5.0",
          "state": {
            "_dom_classes": [],
            "_model_module": "@jupyter-widgets/controls",
            "_model_module_version": "1.5.0",
            "_model_name": "HTMLModel",
            "_view_count": null,
            "_view_module": "@jupyter-widgets/controls",
            "_view_module_version": "1.5.0",
            "_view_name": "HTMLView",
            "description": "",
            "description_tooltip": null,
            "layout": "IPY_MODEL_7a4ae6e95f7d4b9097a65a8fb4ddf00f",
            "placeholder": "​",
            "style": "IPY_MODEL_53641ce9a671480fafaa1198a1573911",
            "value": " 12/12 [00:00&lt;00:00, 190.22it/s]"
          }
        },
        "99814db74ae743b1b0e918dbb4a2eb9c": {
          "model_module": "@jupyter-widgets/base",
          "model_name": "LayoutModel",
          "model_module_version": "1.2.0",
          "state": {
            "_model_module": "@jupyter-widgets/base",
            "_model_module_version": "1.2.0",
            "_model_name": "LayoutModel",
            "_view_count": null,
            "_view_module": "@jupyter-widgets/base",
            "_view_module_version": "1.2.0",
            "_view_name": "LayoutView",
            "align_content": null,
            "align_items": null,
            "align_self": null,
            "border": null,
            "bottom": null,
            "display": null,
            "flex": null,
            "flex_flow": null,
            "grid_area": null,
            "grid_auto_columns": null,
            "grid_auto_flow": null,
            "grid_auto_rows": null,
            "grid_column": null,
            "grid_gap": null,
            "grid_row": null,
            "grid_template_areas": null,
            "grid_template_columns": null,
            "grid_template_rows": null,
            "height": null,
            "justify_content": null,
            "justify_items": null,
            "left": null,
            "margin": null,
            "max_height": null,
            "max_width": null,
            "min_height": null,
            "min_width": null,
            "object_fit": null,
            "object_position": null,
            "order": null,
            "overflow": null,
            "overflow_x": null,
            "overflow_y": null,
            "padding": null,
            "right": null,
            "top": null,
            "visibility": null,
            "width": null
          }
        },
        "a93ad5ae77ec419e8929b822e959f87b": {
          "model_module": "@jupyter-widgets/base",
          "model_name": "LayoutModel",
          "model_module_version": "1.2.0",
          "state": {
            "_model_module": "@jupyter-widgets/base",
            "_model_module_version": "1.2.0",
            "_model_name": "LayoutModel",
            "_view_count": null,
            "_view_module": "@jupyter-widgets/base",
            "_view_module_version": "1.2.0",
            "_view_name": "LayoutView",
            "align_content": null,
            "align_items": null,
            "align_self": null,
            "border": null,
            "bottom": null,
            "display": null,
            "flex": null,
            "flex_flow": null,
            "grid_area": null,
            "grid_auto_columns": null,
            "grid_auto_flow": null,
            "grid_auto_rows": null,
            "grid_column": null,
            "grid_gap": null,
            "grid_row": null,
            "grid_template_areas": null,
            "grid_template_columns": null,
            "grid_template_rows": null,
            "height": null,
            "justify_content": null,
            "justify_items": null,
            "left": null,
            "margin": null,
            "max_height": null,
            "max_width": null,
            "min_height": null,
            "min_width": null,
            "object_fit": null,
            "object_position": null,
            "order": null,
            "overflow": null,
            "overflow_x": null,
            "overflow_y": null,
            "padding": null,
            "right": null,
            "top": null,
            "visibility": null,
            "width": null
          }
        },
        "65a71ececfc144a99ae067b49699e229": {
          "model_module": "@jupyter-widgets/controls",
          "model_name": "DescriptionStyleModel",
          "model_module_version": "1.5.0",
          "state": {
            "_model_module": "@jupyter-widgets/controls",
            "_model_module_version": "1.5.0",
            "_model_name": "DescriptionStyleModel",
            "_view_count": null,
            "_view_module": "@jupyter-widgets/base",
            "_view_module_version": "1.2.0",
            "_view_name": "StyleView",
            "description_width": ""
          }
        },
        "ab04420fff2949fa8dac1c47775b78be": {
          "model_module": "@jupyter-widgets/base",
          "model_name": "LayoutModel",
          "model_module_version": "1.2.0",
          "state": {
            "_model_module": "@jupyter-widgets/base",
            "_model_module_version": "1.2.0",
            "_model_name": "LayoutModel",
            "_view_count": null,
            "_view_module": "@jupyter-widgets/base",
            "_view_module_version": "1.2.0",
            "_view_name": "LayoutView",
            "align_content": null,
            "align_items": null,
            "align_self": null,
            "border": null,
            "bottom": null,
            "display": null,
            "flex": null,
            "flex_flow": null,
            "grid_area": null,
            "grid_auto_columns": null,
            "grid_auto_flow": null,
            "grid_auto_rows": null,
            "grid_column": null,
            "grid_gap": null,
            "grid_row": null,
            "grid_template_areas": null,
            "grid_template_columns": null,
            "grid_template_rows": null,
            "height": null,
            "justify_content": null,
            "justify_items": null,
            "left": null,
            "margin": null,
            "max_height": null,
            "max_width": null,
            "min_height": null,
            "min_width": null,
            "object_fit": null,
            "object_position": null,
            "order": null,
            "overflow": null,
            "overflow_x": null,
            "overflow_y": null,
            "padding": null,
            "right": null,
            "top": null,
            "visibility": null,
            "width": null
          }
        },
        "0a98629358ae40ea82ad8c613a4f2e44": {
          "model_module": "@jupyter-widgets/controls",
          "model_name": "ProgressStyleModel",
          "model_module_version": "1.5.0",
          "state": {
            "_model_module": "@jupyter-widgets/controls",
            "_model_module_version": "1.5.0",
            "_model_name": "ProgressStyleModel",
            "_view_count": null,
            "_view_module": "@jupyter-widgets/base",
            "_view_module_version": "1.2.0",
            "_view_name": "StyleView",
            "bar_color": null,
            "description_width": ""
          }
        },
        "7a4ae6e95f7d4b9097a65a8fb4ddf00f": {
          "model_module": "@jupyter-widgets/base",
          "model_name": "LayoutModel",
          "model_module_version": "1.2.0",
          "state": {
            "_model_module": "@jupyter-widgets/base",
            "_model_module_version": "1.2.0",
            "_model_name": "LayoutModel",
            "_view_count": null,
            "_view_module": "@jupyter-widgets/base",
            "_view_module_version": "1.2.0",
            "_view_name": "LayoutView",
            "align_content": null,
            "align_items": null,
            "align_self": null,
            "border": null,
            "bottom": null,
            "display": null,
            "flex": null,
            "flex_flow": null,
            "grid_area": null,
            "grid_auto_columns": null,
            "grid_auto_flow": null,
            "grid_auto_rows": null,
            "grid_column": null,
            "grid_gap": null,
            "grid_row": null,
            "grid_template_areas": null,
            "grid_template_columns": null,
            "grid_template_rows": null,
            "height": null,
            "justify_content": null,
            "justify_items": null,
            "left": null,
            "margin": null,
            "max_height": null,
            "max_width": null,
            "min_height": null,
            "min_width": null,
            "object_fit": null,
            "object_position": null,
            "order": null,
            "overflow": null,
            "overflow_x": null,
            "overflow_y": null,
            "padding": null,
            "right": null,
            "top": null,
            "visibility": null,
            "width": null
          }
        },
        "53641ce9a671480fafaa1198a1573911": {
          "model_module": "@jupyter-widgets/controls",
          "model_name": "DescriptionStyleModel",
          "model_module_version": "1.5.0",
          "state": {
            "_model_module": "@jupyter-widgets/controls",
            "_model_module_version": "1.5.0",
            "_model_name": "DescriptionStyleModel",
            "_view_count": null,
            "_view_module": "@jupyter-widgets/base",
            "_view_module_version": "1.2.0",
            "_view_name": "StyleView",
            "description_width": ""
          }
        },
        "c4347c6185dc467da8f2cbb7498441b0": {
          "model_module": "@jupyter-widgets/controls",
          "model_name": "HBoxModel",
          "model_module_version": "1.5.0",
          "state": {
            "_dom_classes": [],
            "_model_module": "@jupyter-widgets/controls",
            "_model_module_version": "1.5.0",
            "_model_name": "HBoxModel",
            "_view_count": null,
            "_view_module": "@jupyter-widgets/controls",
            "_view_module_version": "1.5.0",
            "_view_name": "HBoxView",
            "box_style": "",
            "children": [
              "IPY_MODEL_2854ab35b3464667b8f2c9e25d68b1fc",
              "IPY_MODEL_ae26365aeddf48a5a3bc7fc7a011962b",
              "IPY_MODEL_aaadd5974b16482d8f7dd8f6349e8ff2"
            ],
            "layout": "IPY_MODEL_c6e88fa76b33464fbf3a7446c761be45"
          }
        },
        "2854ab35b3464667b8f2c9e25d68b1fc": {
          "model_module": "@jupyter-widgets/controls",
          "model_name": "HTMLModel",
          "model_module_version": "1.5.0",
          "state": {
            "_dom_classes": [],
            "_model_module": "@jupyter-widgets/controls",
            "_model_module_version": "1.5.0",
            "_model_name": "HTMLModel",
            "_view_count": null,
            "_view_module": "@jupyter-widgets/controls",
            "_view_module_version": "1.5.0",
            "_view_name": "HTMLView",
            "description": "",
            "description_tooltip": null,
            "layout": "IPY_MODEL_dff0800f8ecb4da0b87701af4ae97e82",
            "placeholder": "​",
            "style": "IPY_MODEL_a82a0dee93494714afb0956d46cc9c1e",
            "value": "100%"
          }
        },
        "ae26365aeddf48a5a3bc7fc7a011962b": {
          "model_module": "@jupyter-widgets/controls",
          "model_name": "FloatProgressModel",
          "model_module_version": "1.5.0",
          "state": {
            "_dom_classes": [],
            "_model_module": "@jupyter-widgets/controls",
            "_model_module_version": "1.5.0",
            "_model_name": "FloatProgressModel",
            "_view_count": null,
            "_view_module": "@jupyter-widgets/controls",
            "_view_module_version": "1.5.0",
            "_view_name": "ProgressView",
            "bar_style": "success",
            "description": "",
            "description_tooltip": null,
            "layout": "IPY_MODEL_8b000eff9ff945e18f67596142345ed2",
            "max": 12,
            "min": 0,
            "orientation": "horizontal",
            "style": "IPY_MODEL_e51256213b354d9ebbb10ced3315ef4a",
            "value": 12
          }
        },
        "aaadd5974b16482d8f7dd8f6349e8ff2": {
          "model_module": "@jupyter-widgets/controls",
          "model_name": "HTMLModel",
          "model_module_version": "1.5.0",
          "state": {
            "_dom_classes": [],
            "_model_module": "@jupyter-widgets/controls",
            "_model_module_version": "1.5.0",
            "_model_name": "HTMLModel",
            "_view_count": null,
            "_view_module": "@jupyter-widgets/controls",
            "_view_module_version": "1.5.0",
            "_view_name": "HTMLView",
            "description": "",
            "description_tooltip": null,
            "layout": "IPY_MODEL_635252f8794d405c979ac61f5593c55c",
            "placeholder": "​",
            "style": "IPY_MODEL_428fa2f7d2a24dee9d2e0565643df65d",
            "value": " 12/12 [00:06&lt;00:00,  1.83it/s]"
          }
        },
        "c6e88fa76b33464fbf3a7446c761be45": {
          "model_module": "@jupyter-widgets/base",
          "model_name": "LayoutModel",
          "model_module_version": "1.2.0",
          "state": {
            "_model_module": "@jupyter-widgets/base",
            "_model_module_version": "1.2.0",
            "_model_name": "LayoutModel",
            "_view_count": null,
            "_view_module": "@jupyter-widgets/base",
            "_view_module_version": "1.2.0",
            "_view_name": "LayoutView",
            "align_content": null,
            "align_items": null,
            "align_self": null,
            "border": null,
            "bottom": null,
            "display": null,
            "flex": null,
            "flex_flow": null,
            "grid_area": null,
            "grid_auto_columns": null,
            "grid_auto_flow": null,
            "grid_auto_rows": null,
            "grid_column": null,
            "grid_gap": null,
            "grid_row": null,
            "grid_template_areas": null,
            "grid_template_columns": null,
            "grid_template_rows": null,
            "height": null,
            "justify_content": null,
            "justify_items": null,
            "left": null,
            "margin": null,
            "max_height": null,
            "max_width": null,
            "min_height": null,
            "min_width": null,
            "object_fit": null,
            "object_position": null,
            "order": null,
            "overflow": null,
            "overflow_x": null,
            "overflow_y": null,
            "padding": null,
            "right": null,
            "top": null,
            "visibility": null,
            "width": null
          }
        },
        "dff0800f8ecb4da0b87701af4ae97e82": {
          "model_module": "@jupyter-widgets/base",
          "model_name": "LayoutModel",
          "model_module_version": "1.2.0",
          "state": {
            "_model_module": "@jupyter-widgets/base",
            "_model_module_version": "1.2.0",
            "_model_name": "LayoutModel",
            "_view_count": null,
            "_view_module": "@jupyter-widgets/base",
            "_view_module_version": "1.2.0",
            "_view_name": "LayoutView",
            "align_content": null,
            "align_items": null,
            "align_self": null,
            "border": null,
            "bottom": null,
            "display": null,
            "flex": null,
            "flex_flow": null,
            "grid_area": null,
            "grid_auto_columns": null,
            "grid_auto_flow": null,
            "grid_auto_rows": null,
            "grid_column": null,
            "grid_gap": null,
            "grid_row": null,
            "grid_template_areas": null,
            "grid_template_columns": null,
            "grid_template_rows": null,
            "height": null,
            "justify_content": null,
            "justify_items": null,
            "left": null,
            "margin": null,
            "max_height": null,
            "max_width": null,
            "min_height": null,
            "min_width": null,
            "object_fit": null,
            "object_position": null,
            "order": null,
            "overflow": null,
            "overflow_x": null,
            "overflow_y": null,
            "padding": null,
            "right": null,
            "top": null,
            "visibility": null,
            "width": null
          }
        },
        "a82a0dee93494714afb0956d46cc9c1e": {
          "model_module": "@jupyter-widgets/controls",
          "model_name": "DescriptionStyleModel",
          "model_module_version": "1.5.0",
          "state": {
            "_model_module": "@jupyter-widgets/controls",
            "_model_module_version": "1.5.0",
            "_model_name": "DescriptionStyleModel",
            "_view_count": null,
            "_view_module": "@jupyter-widgets/base",
            "_view_module_version": "1.2.0",
            "_view_name": "StyleView",
            "description_width": ""
          }
        },
        "8b000eff9ff945e18f67596142345ed2": {
          "model_module": "@jupyter-widgets/base",
          "model_name": "LayoutModel",
          "model_module_version": "1.2.0",
          "state": {
            "_model_module": "@jupyter-widgets/base",
            "_model_module_version": "1.2.0",
            "_model_name": "LayoutModel",
            "_view_count": null,
            "_view_module": "@jupyter-widgets/base",
            "_view_module_version": "1.2.0",
            "_view_name": "LayoutView",
            "align_content": null,
            "align_items": null,
            "align_self": null,
            "border": null,
            "bottom": null,
            "display": null,
            "flex": null,
            "flex_flow": null,
            "grid_area": null,
            "grid_auto_columns": null,
            "grid_auto_flow": null,
            "grid_auto_rows": null,
            "grid_column": null,
            "grid_gap": null,
            "grid_row": null,
            "grid_template_areas": null,
            "grid_template_columns": null,
            "grid_template_rows": null,
            "height": null,
            "justify_content": null,
            "justify_items": null,
            "left": null,
            "margin": null,
            "max_height": null,
            "max_width": null,
            "min_height": null,
            "min_width": null,
            "object_fit": null,
            "object_position": null,
            "order": null,
            "overflow": null,
            "overflow_x": null,
            "overflow_y": null,
            "padding": null,
            "right": null,
            "top": null,
            "visibility": null,
            "width": null
          }
        },
        "e51256213b354d9ebbb10ced3315ef4a": {
          "model_module": "@jupyter-widgets/controls",
          "model_name": "ProgressStyleModel",
          "model_module_version": "1.5.0",
          "state": {
            "_model_module": "@jupyter-widgets/controls",
            "_model_module_version": "1.5.0",
            "_model_name": "ProgressStyleModel",
            "_view_count": null,
            "_view_module": "@jupyter-widgets/base",
            "_view_module_version": "1.2.0",
            "_view_name": "StyleView",
            "bar_color": null,
            "description_width": ""
          }
        },
        "635252f8794d405c979ac61f5593c55c": {
          "model_module": "@jupyter-widgets/base",
          "model_name": "LayoutModel",
          "model_module_version": "1.2.0",
          "state": {
            "_model_module": "@jupyter-widgets/base",
            "_model_module_version": "1.2.0",
            "_model_name": "LayoutModel",
            "_view_count": null,
            "_view_module": "@jupyter-widgets/base",
            "_view_module_version": "1.2.0",
            "_view_name": "LayoutView",
            "align_content": null,
            "align_items": null,
            "align_self": null,
            "border": null,
            "bottom": null,
            "display": null,
            "flex": null,
            "flex_flow": null,
            "grid_area": null,
            "grid_auto_columns": null,
            "grid_auto_flow": null,
            "grid_auto_rows": null,
            "grid_column": null,
            "grid_gap": null,
            "grid_row": null,
            "grid_template_areas": null,
            "grid_template_columns": null,
            "grid_template_rows": null,
            "height": null,
            "justify_content": null,
            "justify_items": null,
            "left": null,
            "margin": null,
            "max_height": null,
            "max_width": null,
            "min_height": null,
            "min_width": null,
            "object_fit": null,
            "object_position": null,
            "order": null,
            "overflow": null,
            "overflow_x": null,
            "overflow_y": null,
            "padding": null,
            "right": null,
            "top": null,
            "visibility": null,
            "width": null
          }
        },
        "428fa2f7d2a24dee9d2e0565643df65d": {
          "model_module": "@jupyter-widgets/controls",
          "model_name": "DescriptionStyleModel",
          "model_module_version": "1.5.0",
          "state": {
            "_model_module": "@jupyter-widgets/controls",
            "_model_module_version": "1.5.0",
            "_model_name": "DescriptionStyleModel",
            "_view_count": null,
            "_view_module": "@jupyter-widgets/base",
            "_view_module_version": "1.2.0",
            "_view_name": "StyleView",
            "description_width": ""
          }
        }
      }
    }
  },
  "nbformat": 4,
  "nbformat_minor": 0
}